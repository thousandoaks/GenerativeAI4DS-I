{
  "nbformat": 4,
  "nbformat_minor": 0,
  "metadata": {
    "colab": {
      "provenance": [],
      "authorship_tag": "ABX9TyMzfdS9Ujm3ATN2lb0DToUT"
    },
    "kernelspec": {
      "name": "python3",
      "display_name": "Python 3"
    },
    "language_info": {
      "name": "python"
    }
  },
  "cells": [
    {
      "cell_type": "markdown",
      "source": [
        "# GenerativeAI4DS-I\n",
        "## Lab. Iterative Prompt Development\n",
        "\n",
        "\n",
        "##  What I hope you'll get out of this lab\n",
        "* The feeling that you'll \"know where to start\" when you have to consume OpenAI services.\n",
        "* Follow OpenAI's best practices on how to develop and improve prompts"
      ],
      "metadata": {
        "id": "rigxDZTATdb8"
      }
    },
    {
      "cell_type": "code",
      "execution_count": 1,
      "metadata": {
        "colab": {
          "base_uri": "https://localhost:8080/"
        },
        "id": "WBJEYnwHTb11",
        "outputId": "8b25d179-e6e7-4478-a345-8bc7fbdd0672"
      },
      "outputs": [
        {
          "output_type": "stream",
          "name": "stdout",
          "text": [
            "Collecting openai\n",
            "  Downloading openai-1.30.2-py3-none-any.whl (320 kB)\n",
            "\u001b[2K     \u001b[90m━━━━━━━━━━━━━━━━━━━━━━━━━━━━━━━━━━━━━━━━\u001b[0m \u001b[32m320.7/320.7 kB\u001b[0m \u001b[31m4.7 MB/s\u001b[0m eta \u001b[36m0:00:00\u001b[0m\n",
            "\u001b[?25hRequirement already satisfied: anyio<5,>=3.5.0 in /usr/local/lib/python3.10/dist-packages (from openai) (3.7.1)\n",
            "Requirement already satisfied: distro<2,>=1.7.0 in /usr/lib/python3/dist-packages (from openai) (1.7.0)\n",
            "Collecting httpx<1,>=0.23.0 (from openai)\n",
            "  Downloading httpx-0.27.0-py3-none-any.whl (75 kB)\n",
            "\u001b[2K     \u001b[90m━━━━━━━━━━━━━━━━━━━━━━━━━━━━━━━━━━━━━━━━\u001b[0m \u001b[32m75.6/75.6 kB\u001b[0m \u001b[31m8.1 MB/s\u001b[0m eta \u001b[36m0:00:00\u001b[0m\n",
            "\u001b[?25hRequirement already satisfied: pydantic<3,>=1.9.0 in /usr/local/lib/python3.10/dist-packages (from openai) (2.7.1)\n",
            "Requirement already satisfied: sniffio in /usr/local/lib/python3.10/dist-packages (from openai) (1.3.1)\n",
            "Requirement already satisfied: tqdm>4 in /usr/local/lib/python3.10/dist-packages (from openai) (4.66.4)\n",
            "Requirement already satisfied: typing-extensions<5,>=4.7 in /usr/local/lib/python3.10/dist-packages (from openai) (4.11.0)\n",
            "Requirement already satisfied: idna>=2.8 in /usr/local/lib/python3.10/dist-packages (from anyio<5,>=3.5.0->openai) (3.7)\n",
            "Requirement already satisfied: exceptiongroup in /usr/local/lib/python3.10/dist-packages (from anyio<5,>=3.5.0->openai) (1.2.1)\n",
            "Requirement already satisfied: certifi in /usr/local/lib/python3.10/dist-packages (from httpx<1,>=0.23.0->openai) (2024.2.2)\n",
            "Collecting httpcore==1.* (from httpx<1,>=0.23.0->openai)\n",
            "  Downloading httpcore-1.0.5-py3-none-any.whl (77 kB)\n",
            "\u001b[2K     \u001b[90m━━━━━━━━━━━━━━━━━━━━━━━━━━━━━━━━━━━━━━━━\u001b[0m \u001b[32m77.9/77.9 kB\u001b[0m \u001b[31m6.9 MB/s\u001b[0m eta \u001b[36m0:00:00\u001b[0m\n",
            "\u001b[?25hCollecting h11<0.15,>=0.13 (from httpcore==1.*->httpx<1,>=0.23.0->openai)\n",
            "  Downloading h11-0.14.0-py3-none-any.whl (58 kB)\n",
            "\u001b[2K     \u001b[90m━━━━━━━━━━━━━━━━━━━━━━━━━━━━━━━━━━━━━━━━\u001b[0m \u001b[32m58.3/58.3 kB\u001b[0m \u001b[31m3.3 MB/s\u001b[0m eta \u001b[36m0:00:00\u001b[0m\n",
            "\u001b[?25hRequirement already satisfied: annotated-types>=0.4.0 in /usr/local/lib/python3.10/dist-packages (from pydantic<3,>=1.9.0->openai) (0.7.0)\n",
            "Requirement already satisfied: pydantic-core==2.18.2 in /usr/local/lib/python3.10/dist-packages (from pydantic<3,>=1.9.0->openai) (2.18.2)\n",
            "Installing collected packages: h11, httpcore, httpx, openai\n",
            "Successfully installed h11-0.14.0 httpcore-1.0.5 httpx-0.27.0 openai-1.30.2\n"
          ]
        }
      ],
      "source": [
        "!pip install openai"
      ]
    },
    {
      "cell_type": "code",
      "source": [
        "from openai import OpenAI\n",
        "import os"
      ],
      "metadata": {
        "id": "-9FVxvOLUBJn"
      },
      "execution_count": 2,
      "outputs": []
    },
    {
      "cell_type": "markdown",
      "source": [
        "# 1. You have to get your [OpenAI API Key](https://platform.openai.com/account/api-keys)"
      ],
      "metadata": {
        "id": "ZERbLRu8UEOa"
      }
    },
    {
      "cell_type": "code",
      "source": [
        "# Used by the agent in this tutorial\n",
        "os.environ[\"OPENAI_API_KEY\"] = \"YOU-NEED-YOUR-OWN-KEY\""
      ],
      "metadata": {
        "id": "S9mx01r0UBHi"
      },
      "execution_count": 3,
      "outputs": []
    },
    {
      "cell_type": "code",
      "source": [
        "MODEL=\"gpt-4o\"\n",
        "\n",
        "client = OpenAI(\n",
        "  api_key=os.environ['OPENAI_API_KEY'],  # this is also the default, it can be omitted\n",
        ")"
      ],
      "metadata": {
        "id": "ZAyzER4GUBE8"
      },
      "execution_count": 4,
      "outputs": []
    },
    {
      "cell_type": "code",
      "source": [
        "def get_completion(prompt, model=\"gpt-3.5-turbo\"):\n",
        "    messages = [{\"role\": \"user\", \"content\": prompt}]\n",
        "    response = client.chat.completions.create(\n",
        "        model=MODEL,\n",
        "        messages=messages,\n",
        "        temperature=0\n",
        "    )\n",
        "    return response.choices[0].message.content"
      ],
      "metadata": {
        "id": "B54EoIM0UMtM"
      },
      "execution_count": 5,
      "outputs": []
    },
    {
      "cell_type": "markdown",
      "source": [
        "## Generate a marketing product description from a product fact sheet (First Attempt)"
      ],
      "metadata": {
        "id": "u_kZTJIGUS-S"
      }
    },
    {
      "cell_type": "code",
      "source": [
        "fact_sheet_chair = \"\"\"\n",
        "OVERVIEW\n",
        "- Part of a beautiful family of mid-century inspired office furniture,\n",
        "including filing cabinets, desks, bookcases, meeting tables, and more.\n",
        "- Several options of shell color and base finishes.\n",
        "- Available with plastic back and front upholstery (SWC-100)\n",
        "or full upholstery (SWC-110) in 10 fabric and 6 leather options.\n",
        "- Base finish options are: stainless steel, matte black,\n",
        "gloss white, or chrome.\n",
        "- Chair is available with or without armrests.\n",
        "- Suitable for home or business settings.\n",
        "- Qualified for contract use.\n",
        "\n",
        "CONSTRUCTION\n",
        "- 5-wheel plastic coated aluminum base.\n",
        "- Pneumatic chair adjust for easy raise/lower action.\n",
        "\n",
        "DIMENSIONS\n",
        "- WIDTH 53 CM | 20.87”\n",
        "- DEPTH 51 CM | 20.08”\n",
        "- HEIGHT 80 CM | 31.50”\n",
        "- SEAT HEIGHT 44 CM | 17.32”\n",
        "- SEAT DEPTH 41 CM | 16.14”\n",
        "\n",
        "OPTIONS\n",
        "- Soft or hard-floor caster options.\n",
        "- Two choices of seat foam densities:\n",
        " medium (1.8 lb/ft3) or high (2.8 lb/ft3)\n",
        "- Armless or 8 position PU armrests\n",
        "\n",
        "MATERIALS\n",
        "SHELL BASE GLIDER\n",
        "- Cast Aluminum with modified nylon PA6/PA66 coating.\n",
        "- Shell thickness: 10 mm.\n",
        "SEAT\n",
        "- HD36 foam\n",
        "\n",
        "COUNTRY OF ORIGIN\n",
        "- Italy\n",
        "\"\"\""
      ],
      "metadata": {
        "id": "nXGJH1K2UWZ9"
      },
      "execution_count": 6,
      "outputs": []
    },
    {
      "cell_type": "code",
      "source": [
        "prompt = f\"\"\"\n",
        "Your task is to help a marketing team create a\n",
        "description for a retail website of a product based\n",
        "on a technical fact sheet.\n",
        "\n",
        "Write a product description based on the information\n",
        "provided in the technical specifications delimited by\n",
        "triple backticks.\n",
        "\n",
        "Technical specifications: ```{fact_sheet_chair}```\n",
        "\"\"\""
      ],
      "metadata": {
        "id": "d6wSZsh3UmvW"
      },
      "execution_count": 7,
      "outputs": []
    },
    {
      "cell_type": "code",
      "source": [
        "response = get_completion(prompt)\n",
        "print(response)\n"
      ],
      "metadata": {
        "colab": {
          "base_uri": "https://localhost:8080/"
        },
        "id": "hC9F4r2qU2VQ",
        "outputId": "b7ee3d0a-e1c4-4527-862c-e56d1037169e"
      },
      "execution_count": 8,
      "outputs": [
        {
          "output_type": "stream",
          "name": "stdout",
          "text": [
            "**Mid-Century Inspired Office Chair**\n",
            "\n",
            "Elevate your workspace with our stunning mid-century inspired office chair, a perfect blend of style and functionality. This chair is part of a beautiful family of office furniture that includes filing cabinets, desks, bookcases, meeting tables, and more, allowing you to create a cohesive and stylish office environment.\n",
            "\n",
            "**Customizable Elegance**\n",
            "Choose from several shell colors and base finishes to match your decor. The chair is available in two upholstery options: plastic back and front upholstery (SWC-100) or full upholstery (SWC-110), with a selection of 10 fabric and 6 leather options. The base can be finished in stainless steel, matte black, gloss white, or chrome, ensuring a perfect match for any setting.\n",
            "\n",
            "**Versatile and Functional**\n",
            "Designed for both home and business settings, this chair is also qualified for contract use, making it a versatile addition to any office. It is available with or without armrests, and you can choose between soft or hard-floor casters to suit your flooring type. The chair also offers two choices of seat foam densities: medium (1.8 lb/ft³) or high (2.8 lb/ft³), and armless or 8-position PU armrests for added comfort.\n",
            "\n",
            "**Superior Construction**\n",
            "Built with a 5-wheel plastic-coated aluminum base, this chair ensures stability and mobility. The pneumatic chair adjuster allows for easy raise and lower action, providing ergonomic support throughout your workday.\n",
            "\n",
            "**Dimensions**\n",
            "- Width: 53 cm | 20.87”\n",
            "- Depth: 51 cm | 20.08”\n",
            "- Height: 80 cm | 31.50”\n",
            "- Seat Height: 44 cm | 17.32”\n",
            "- Seat Depth: 41 cm | 16.14”\n",
            "\n",
            "**Premium Materials**\n",
            "Crafted in Italy, the chair features a cast aluminum shell with a modified nylon PA6/PA66 coating, ensuring durability and a sleek finish. The seat is made from high-density HD36 foam, providing long-lasting comfort and support.\n",
            "\n",
            "Transform your workspace with this elegant and functional office chair, designed to meet the highest standards of quality and style.\n"
          ]
        }
      ]
    },
    {
      "cell_type": "markdown",
      "source": [
        "## Generate a marketing product description from a product fact sheet (Second Attempt)\n",
        "### We notice that previous response is too long. Let's limit the number of words"
      ],
      "metadata": {
        "id": "eoj-iTNJVGc0"
      }
    },
    {
      "cell_type": "code",
      "source": [
        "prompt2 = f\"\"\"\n",
        "Your task is to help a marketing team create a\n",
        "description for a retail website of a product based\n",
        "on a technical fact sheet.\n",
        "\n",
        "Write a product description based on the information\n",
        "provided in the technical specifications delimited by\n",
        "triple backticks.\n",
        "\n",
        "Use at most 50 words.\n",
        "\n",
        "Technical specifications: ```{fact_sheet_chair}```\n",
        "\"\"\"\n"
      ],
      "metadata": {
        "colab": {
          "base_uri": "https://localhost:8080/"
        },
        "id": "aN0prdFUVIcl",
        "outputId": "bf37d98d-92cb-46c5-c6c2-a37bd605cbbe"
      },
      "execution_count": 9,
      "outputs": [
        {
          "output_type": "stream",
          "name": "stdout",
          "text": [
            "Elevate your workspace with our mid-century inspired office chair. Choose from various shell colors, base finishes, and upholstery options. Features include a 5-wheel aluminum base, pneumatic height adjustment, and optional armrests. Perfect for home or business use. Made in Italy.\n"
          ]
        }
      ]
    },
    {
      "cell_type": "code",
      "source": [
        "response2 = get_completion(prompt2)\n",
        "print(response2)"
      ],
      "metadata": {
        "colab": {
          "base_uri": "https://localhost:8080/"
        },
        "id": "fhO1DxRlVaJU",
        "outputId": "122a00e0-f895-415a-fc51-6256f36e748e"
      },
      "execution_count": 10,
      "outputs": [
        {
          "output_type": "stream",
          "name": "stdout",
          "text": [
            "Elevate your workspace with our mid-century inspired office chair. Choose from various shell colors, base finishes, and upholstery options. Features include a 5-wheel aluminum base, pneumatic height adjustment, and optional armrests. Perfect for home or business use. Made in Italy.\n"
          ]
        }
      ]
    },
    {
      "cell_type": "markdown",
      "source": [
        "## Generate a marketing product description from a product fact sheet (Third Attempt)\n",
        "### Ask it to focus on the aspects that are relevant to the intended audience."
      ],
      "metadata": {
        "id": "sTDNHzEtVjtL"
      }
    },
    {
      "cell_type": "code",
      "source": [
        "prompt3 = f\"\"\"\n",
        "Your task is to help a marketing team create a\n",
        "description for a retail website of a product based\n",
        "on a technical fact sheet.\n",
        "\n",
        "Write a product description based on the information\n",
        "provided in the technical specifications delimited by\n",
        "triple backticks.\n",
        "\n",
        "The description is intended for furniture retailers,\n",
        "so should be technical in nature and focus on the\n",
        "materials the product is constructed from.\n",
        "\n",
        "Use at most 50 words.\n",
        "\n",
        "Technical specifications: ```{fact_sheet_chair}```\n",
        "\"\"\""
      ],
      "metadata": {
        "id": "FMAqtdksVt5z"
      },
      "execution_count": 11,
      "outputs": []
    },
    {
      "cell_type": "code",
      "source": [
        "response3 = get_completion(prompt3)\n",
        "print(response3)"
      ],
      "metadata": {
        "colab": {
          "base_uri": "https://localhost:8080/"
        },
        "id": "EeBVPELUVt-u",
        "outputId": "4ccdf180-6f41-485d-9daa-ec7aba91ca44"
      },
      "execution_count": 12,
      "outputs": [
        {
          "output_type": "stream",
          "name": "stdout",
          "text": [
            "Discover our mid-century inspired office chair, crafted in Italy. Featuring a 5-wheel plastic-coated aluminum base, HD36 foam seat, and a cast aluminum shell with modified nylon PA6/PA66 coating. Available in multiple finishes and upholstery options, with or without armrests. Ideal for home or business use.\n"
          ]
        }
      ]
    },
    {
      "cell_type": "markdown",
      "source": [
        "#### We might need to include technical information in the response in a format that is suitable for subsequent processing by furniture retailers"
      ],
      "metadata": {
        "id": "WN7NkSmWV-bV"
      }
    },
    {
      "cell_type": "code",
      "source": [
        "prompt4 = f\"\"\"\n",
        "Your task is to help a marketing team create a\n",
        "description for a retail website of a product based\n",
        "on a technical fact sheet.\n",
        "\n",
        "Write a product description based on the information\n",
        "provided in the technical specifications delimited by\n",
        "triple backticks.\n",
        "\n",
        "The description is intended for furniture retailers,\n",
        "so should be technical in nature and focus on the\n",
        "materials the product is constructed from.\n",
        "\n",
        "At the end of the description, include every 7-character\n",
        "Product ID in the technical specification.\n",
        "\n",
        "Use at most 50 words.\n",
        "\n",
        "Technical specifications: ```{fact_sheet_chair}```\n",
        "\"\"\""
      ],
      "metadata": {
        "id": "RVJSWf2MVt8Y"
      },
      "execution_count": 13,
      "outputs": []
    },
    {
      "cell_type": "code",
      "source": [
        "response4 = get_completion(prompt4)\n",
        "print(response4)"
      ],
      "metadata": {
        "colab": {
          "base_uri": "https://localhost:8080/"
        },
        "id": "5TFTCGaiWOmx",
        "outputId": "faedec3f-854f-4010-feb0-11474d732080"
      },
      "execution_count": 14,
      "outputs": [
        {
          "output_type": "stream",
          "name": "stdout",
          "text": [
            "Discover our mid-century inspired office chair, crafted with a 5-wheel plastic-coated aluminum base and a cast aluminum shell with modified nylon PA6/PA66 coating. Available in plastic back and front upholstery (SWC-100) or full upholstery (SWC-110), with multiple fabric and leather options. Made in Italy.\n",
            "\n",
            "Product IDs: SWC-100, SWC-110\n"
          ]
        }
      ]
    },
    {
      "cell_type": "code",
      "source": [],
      "metadata": {
        "id": "z4v_kvHAWRTs"
      },
      "execution_count": null,
      "outputs": []
    },
    {
      "cell_type": "markdown",
      "source": [
        "## Generate a marketing product description from a product fact sheet (Fourth Attempt)\n",
        "### Description needs a table of dimensions"
      ],
      "metadata": {
        "id": "x6mcOMiVWegZ"
      }
    },
    {
      "cell_type": "code",
      "source": [
        "prompt5 = f\"\"\"\n",
        "Your task is to help a marketing team create a\n",
        "description for a retail website of a product based\n",
        "on a technical fact sheet.\n",
        "\n",
        "Write a product description based on the information\n",
        "provided in the technical specifications delimited by\n",
        "triple backticks.\n",
        "\n",
        "The description is intended for furniture retailers,\n",
        "so should be technical in nature and focus on the\n",
        "materials the product is constructed from.\n",
        "\n",
        "At the end of the description, include every 7-character\n",
        "Product ID in the technical specification.\n",
        "\n",
        "After the description, include a table that gives the\n",
        "product's dimensions. The table should have two columns.\n",
        "In the first column include the name of the dimension.\n",
        "In the second column include the measurements in inches only.\n",
        "\n",
        "Give the table the title 'Product Dimensions'.\n",
        "\n",
        "Format everything as HTML that can be used in a website.\n",
        "Place the description in a <div> element.\n",
        "\n",
        "Technical specifications: ```{fact_sheet_chair}```\n",
        "\"\"\""
      ],
      "metadata": {
        "id": "_9D6rq0gWlNB"
      },
      "execution_count": 15,
      "outputs": []
    },
    {
      "cell_type": "code",
      "source": [
        "response5 = get_completion(prompt5)\n",
        "print(response5)"
      ],
      "metadata": {
        "colab": {
          "base_uri": "https://localhost:8080/"
        },
        "id": "SQh_WnU1Wo6m",
        "outputId": "659dc7f7-e596-49f5-d265-602567aebbbe"
      },
      "execution_count": 16,
      "outputs": [
        {
          "output_type": "stream",
          "name": "stdout",
          "text": [
            "```html\n",
            "<div>\n",
            "    <h2>Mid-Century Inspired Office Chair</h2>\n",
            "    <p>\n",
            "        Introducing a stunning addition to our mid-century inspired office furniture collection, this office chair is designed to blend seamlessly into both home and business settings. The chair is available in several shell colors and base finishes, allowing for a high degree of customization. Choose between a plastic back with front upholstery (SWC-100) or full upholstery (SWC-110) in a variety of 10 fabric and 6 leather options. The base finishes include stainless steel, matte black, gloss white, or chrome, and the chair can be ordered with or without armrests.\n",
            "    </p>\n",
            "    <p>\n",
            "        Constructed with a 5-wheel plastic coated aluminum base, this chair offers durability and mobility. The pneumatic chair adjuster allows for easy height adjustments, ensuring comfort throughout the day. The chair is also qualified for contract use, making it a versatile choice for various environments.\n",
            "    </p>\n",
            "    <p>\n",
            "        The shell base glider is made from cast aluminum with a modified nylon PA6/PA66 coating, providing a robust and stylish foundation. The shell thickness is 10 mm, and the seat is made from high-density HD36 foam, ensuring long-lasting comfort and support.\n",
            "    </p>\n",
            "    <p>\n",
            "        Additional options include soft or hard-floor casters, two choices of seat foam densities (medium at 1.8 lb/ft³ or high at 2.8 lb/ft³), and the choice between armless or 8-position PU armrests.\n",
            "    </p>\n",
            "    <p>\n",
            "        This exquisite chair is crafted in Italy, reflecting the highest standards of quality and design.\n",
            "    </p>\n",
            "    <p>Product IDs: SWC-100, SWC-110</p>\n",
            "</div>\n",
            "\n",
            "<h3>Product Dimensions</h3>\n",
            "<table>\n",
            "    <tr>\n",
            "        <th>Dimension</th>\n",
            "        <th>Measurement (inches)</th>\n",
            "    </tr>\n",
            "    <tr>\n",
            "        <td>Width</td>\n",
            "        <td>20.87</td>\n",
            "    </tr>\n",
            "    <tr>\n",
            "        <td>Depth</td>\n",
            "        <td>20.08</td>\n",
            "    </tr>\n",
            "    <tr>\n",
            "        <td>Height</td>\n",
            "        <td>31.50</td>\n",
            "    </tr>\n",
            "    <tr>\n",
            "        <td>Seat Height</td>\n",
            "        <td>17.32</td>\n",
            "    </tr>\n",
            "    <tr>\n",
            "        <td>Seat Depth</td>\n",
            "        <td>16.14</td>\n",
            "    </tr>\n",
            "</table>\n",
            "```\n"
          ]
        }
      ]
    },
    {
      "cell_type": "code",
      "source": [
        "from IPython.display import display, HTML\n",
        "display(HTML(response))"
      ],
      "metadata": {
        "colab": {
          "base_uri": "https://localhost:8080/",
          "height": 139
        },
        "id": "figX3H6FWrHM",
        "outputId": "2b9cc3f0-27fb-4d4f-ba37-d2b018864492"
      },
      "execution_count": 17,
      "outputs": [
        {
          "output_type": "display_data",
          "data": {
            "text/plain": [
              "<IPython.core.display.HTML object>"
            ],
            "text/html": [
              "**Mid-Century Inspired Office Chair**\n",
              "\n",
              "Elevate your workspace with our stunning mid-century inspired office chair, a perfect blend of style and functionality. This chair is part of a beautiful family of office furniture that includes filing cabinets, desks, bookcases, meeting tables, and more, allowing you to create a cohesive and stylish office environment.\n",
              "\n",
              "**Customizable Elegance**\n",
              "Choose from several shell colors and base finishes to match your decor. The chair is available in two upholstery options: plastic back and front upholstery (SWC-100) or full upholstery (SWC-110), with a selection of 10 fabric and 6 leather options. The base can be finished in stainless steel, matte black, gloss white, or chrome, ensuring a perfect match for any setting.\n",
              "\n",
              "**Versatile and Functional**\n",
              "Designed for both home and business settings, this chair is also qualified for contract use, making it a versatile addition to any office. It is available with or without armrests, and you can choose between soft or hard-floor casters to suit your flooring type. The chair also offers two choices of seat foam densities: medium (1.8 lb/ft³) or high (2.8 lb/ft³), and armless or 8-position PU armrests for added comfort.\n",
              "\n",
              "**Superior Construction**\n",
              "Built with a 5-wheel plastic-coated aluminum base, this chair ensures stability and mobility. The pneumatic chair adjuster allows for easy raise and lower action, providing ergonomic support throughout your workday.\n",
              "\n",
              "**Dimensions**\n",
              "- Width: 53 cm | 20.87”\n",
              "- Depth: 51 cm | 20.08”\n",
              "- Height: 80 cm | 31.50”\n",
              "- Seat Height: 44 cm | 17.32”\n",
              "- Seat Depth: 41 cm | 16.14”\n",
              "\n",
              "**Premium Materials**\n",
              "Crafted in Italy, the chair features a cast aluminum shell with a modified nylon PA6/PA66 coating, ensuring durability and a sleek finish. The seat is made from high-density HD36 foam, providing long-lasting comfort and support.\n",
              "\n",
              "Transform your workspace with this elegant and functional office chair, designed to meet the highest standards of quality and style."
            ]
          },
          "metadata": {}
        }
      ]
    },
    {
      "cell_type": "code",
      "source": [],
      "metadata": {
        "id": "9ZyMIS-sWz6J"
      },
      "execution_count": null,
      "outputs": []
    }
  ]
}