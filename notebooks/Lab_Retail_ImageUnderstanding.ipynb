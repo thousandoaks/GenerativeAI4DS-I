{
  "nbformat": 4,
  "nbformat_minor": 0,
  "metadata": {
    "colab": {
      "provenance": [],
      "authorship_tag": "ABX9TyPE/qju4KdrJOBntktur9xx"
    },
    "kernelspec": {
      "name": "python3",
      "display_name": "Python 3"
    },
    "language_info": {
      "name": "python"
    }
  },
  "cells": [
    {
      "cell_type": "markdown",
      "source": [
        "# GenerativeAI4DS-I\n",
        "## Lab. Retail Image Understanding\n",
        "\n",
        "##  What I hope you'll get out of this lab\n",
        "* Be aware of the potential of generative AI to process product images"
      ],
      "metadata": {
        "id": "rigxDZTATdb8"
      }
    },
    {
      "cell_type": "markdown",
      "source": [
        "This notebook explores how to leverage GPT-4o to tag & caption images.\n",
        "\n",
        "We can leverage the multimodal capabilities of GPT-4o to provide input images along with additional context on what they represent, and prompt the model to output tags or image descriptions. The image descriptions can then be further refined with a language model (in this notebook, we'll use GPT-4o) to generate captions.\n",
        "\n",
        "Generating text content from images can be useful for multiple use cases, especially use cases involving search.\n",
        "We will illustrate a search use case in this notebook by using generated keywords and product captions to search for products - both from a text input and an image input.\n",
        "\n",
        "As an example, we will use a dataset of Amazon furniture items, tag them with relevant keywords and generate short, descriptive captions."
      ],
      "metadata": {
        "id": "z_N0fypRyooe"
      }
    },
    {
      "cell_type": "code",
      "execution_count": 1,
      "metadata": {
        "colab": {
          "base_uri": "https://localhost:8080/"
        },
        "id": "WBJEYnwHTb11",
        "outputId": "56543252-6062-4d51-d1e8-cbdbd46b0cb9"
      },
      "outputs": [
        {
          "output_type": "stream",
          "name": "stdout",
          "text": [
            "Collecting openai\n",
            "  Downloading openai-1.30.3-py3-none-any.whl (320 kB)\n",
            "\u001b[?25l     \u001b[90m━━━━━━━━━━━━━━━━━━━━━━━━━━━━━━━━━━━━━━━━\u001b[0m \u001b[32m0.0/320.6 kB\u001b[0m \u001b[31m?\u001b[0m eta \u001b[36m-:--:--\u001b[0m\r\u001b[2K     \u001b[91m━━━━━━━━━━━━━━━━━\u001b[0m\u001b[91m╸\u001b[0m\u001b[90m━━━━━━━━━━━━━━━━━━━━━━\u001b[0m \u001b[32m143.4/320.6 kB\u001b[0m \u001b[31m4.3 MB/s\u001b[0m eta \u001b[36m0:00:01\u001b[0m\r\u001b[2K     \u001b[90m━━━━━━━━━━━━━━━━━━━━━━━━━━━━━━━━━━━━━━━━\u001b[0m \u001b[32m320.6/320.6 kB\u001b[0m \u001b[31m5.4 MB/s\u001b[0m eta \u001b[36m0:00:00\u001b[0m\n",
            "\u001b[?25hRequirement already satisfied: anyio<5,>=3.5.0 in /usr/local/lib/python3.10/dist-packages (from openai) (3.7.1)\n",
            "Requirement already satisfied: distro<2,>=1.7.0 in /usr/lib/python3/dist-packages (from openai) (1.7.0)\n",
            "Collecting httpx<1,>=0.23.0 (from openai)\n",
            "  Downloading httpx-0.27.0-py3-none-any.whl (75 kB)\n",
            "\u001b[2K     \u001b[90m━━━━━━━━━━━━━━━━━━━━━━━━━━━━━━━━━━━━━━━━\u001b[0m \u001b[32m75.6/75.6 kB\u001b[0m \u001b[31m6.6 MB/s\u001b[0m eta \u001b[36m0:00:00\u001b[0m\n",
            "\u001b[?25hRequirement already satisfied: pydantic<3,>=1.9.0 in /usr/local/lib/python3.10/dist-packages (from openai) (2.7.1)\n",
            "Requirement already satisfied: sniffio in /usr/local/lib/python3.10/dist-packages (from openai) (1.3.1)\n",
            "Requirement already satisfied: tqdm>4 in /usr/local/lib/python3.10/dist-packages (from openai) (4.66.4)\n",
            "Requirement already satisfied: typing-extensions<5,>=4.7 in /usr/local/lib/python3.10/dist-packages (from openai) (4.11.0)\n",
            "Requirement already satisfied: idna>=2.8 in /usr/local/lib/python3.10/dist-packages (from anyio<5,>=3.5.0->openai) (3.7)\n",
            "Requirement already satisfied: exceptiongroup in /usr/local/lib/python3.10/dist-packages (from anyio<5,>=3.5.0->openai) (1.2.1)\n",
            "Requirement already satisfied: certifi in /usr/local/lib/python3.10/dist-packages (from httpx<1,>=0.23.0->openai) (2024.2.2)\n",
            "Collecting httpcore==1.* (from httpx<1,>=0.23.0->openai)\n",
            "  Downloading httpcore-1.0.5-py3-none-any.whl (77 kB)\n",
            "\u001b[2K     \u001b[90m━━━━━━━━━━━━━━━━━━━━━━━━━━━━━━━━━━━━━━━━\u001b[0m \u001b[32m77.9/77.9 kB\u001b[0m \u001b[31m6.2 MB/s\u001b[0m eta \u001b[36m0:00:00\u001b[0m\n",
            "\u001b[?25hCollecting h11<0.15,>=0.13 (from httpcore==1.*->httpx<1,>=0.23.0->openai)\n",
            "  Downloading h11-0.14.0-py3-none-any.whl (58 kB)\n",
            "\u001b[2K     \u001b[90m━━━━━━━━━━━━━━━━━━━━━━━━━━━━━━━━━━━━━━━━\u001b[0m \u001b[32m58.3/58.3 kB\u001b[0m \u001b[31m4.4 MB/s\u001b[0m eta \u001b[36m0:00:00\u001b[0m\n",
            "\u001b[?25hRequirement already satisfied: annotated-types>=0.4.0 in /usr/local/lib/python3.10/dist-packages (from pydantic<3,>=1.9.0->openai) (0.7.0)\n",
            "Requirement already satisfied: pydantic-core==2.18.2 in /usr/local/lib/python3.10/dist-packages (from pydantic<3,>=1.9.0->openai) (2.18.2)\n",
            "Installing collected packages: h11, httpcore, httpx, openai\n",
            "Successfully installed h11-0.14.0 httpcore-1.0.5 httpx-0.27.0 openai-1.30.3\n",
            "Requirement already satisfied: scikit-learn in /usr/local/lib/python3.10/dist-packages (1.2.2)\n",
            "Requirement already satisfied: numpy>=1.17.3 in /usr/local/lib/python3.10/dist-packages (from scikit-learn) (1.25.2)\n",
            "Requirement already satisfied: scipy>=1.3.2 in /usr/local/lib/python3.10/dist-packages (from scikit-learn) (1.11.4)\n",
            "Requirement already satisfied: joblib>=1.1.1 in /usr/local/lib/python3.10/dist-packages (from scikit-learn) (1.4.2)\n",
            "Requirement already satisfied: threadpoolctl>=2.0.0 in /usr/local/lib/python3.10/dist-packages (from scikit-learn) (3.5.0)\n"
          ]
        }
      ],
      "source": [
        "!pip install openai\n",
        "!pip install scikit-learn"
      ]
    },
    {
      "cell_type": "code",
      "source": [
        "from IPython.display import Image, display\n",
        "import pandas as pd\n",
        "from sklearn.metrics.pairwise import cosine_similarity\n",
        "import numpy as np\n",
        "from openai import OpenAI\n",
        "import os"
      ],
      "metadata": {
        "id": "-9FVxvOLUBJn"
      },
      "execution_count": 2,
      "outputs": []
    },
    {
      "cell_type": "code",
      "source": [
        "def show_json(obj):\n",
        "    display(json.loads(obj.model_dump_json()))"
      ],
      "metadata": {
        "id": "yjYBLPRuXrRN"
      },
      "execution_count": 3,
      "outputs": []
    },
    {
      "cell_type": "code",
      "source": [],
      "metadata": {
        "id": "NN2s8aiC_VR_"
      },
      "execution_count": 3,
      "outputs": []
    },
    {
      "cell_type": "code",
      "source": [],
      "metadata": {
        "id": "4r8KGUM2u8fe"
      },
      "execution_count": 3,
      "outputs": []
    },
    {
      "cell_type": "code",
      "source": [
        "# We need this to load the files onto google colab\n",
        "!git clone https://github.com/thousandoaks/GenerativeAI4DS-I.git"
      ],
      "metadata": {
        "colab": {
          "base_uri": "https://localhost:8080/"
        },
        "id": "JgUvxZ50u8Zx",
        "outputId": "5d4a7cbf-4e93-456b-90b1-adc101ae352b"
      },
      "execution_count": 4,
      "outputs": [
        {
          "output_type": "stream",
          "name": "stdout",
          "text": [
            "Cloning into 'GenerativeAI4DS-I'...\n",
            "remote: Enumerating objects: 113, done.\u001b[K\n",
            "remote: Counting objects: 100% (113/113), done.\u001b[K\n",
            "remote: Compressing objects: 100% (107/107), done.\u001b[K\n",
            "remote: Total 113 (delta 39), reused 0 (delta 0), pack-reused 0\u001b[K\n",
            "Receiving objects: 100% (113/113), 3.73 MiB | 14.88 MiB/s, done.\n",
            "Resolving deltas: 100% (39/39), done.\n"
          ]
        }
      ]
    },
    {
      "cell_type": "markdown",
      "source": [
        "# 1. You have to get your [OpenAI API Key](https://platform.openai.com/account/api-keys)"
      ],
      "metadata": {
        "id": "ZERbLRu8UEOa"
      }
    },
    {
      "cell_type": "code",
      "source": [
        "# Used by the agent in this tutorial\n",
        "os.environ[\"OPENAI_API_KEY\"] = \"YOU-NEED-YOUR-OWN-KEY\""
      ],
      "metadata": {
        "id": "S9mx01r0UBHi"
      },
      "execution_count": 5,
      "outputs": []
    },
    {
      "cell_type": "code",
      "source": [
        "client = OpenAI(\n",
        "  api_key=os.environ['OPENAI_API_KEY'],  # this is also the default, it can be omitted\n",
        ")"
      ],
      "metadata": {
        "id": "2TlZc7DGXJyG"
      },
      "execution_count": 6,
      "outputs": []
    },
    {
      "cell_type": "code",
      "source": [],
      "metadata": {
        "id": "n3I4lYQwfxxG"
      },
      "execution_count": 6,
      "outputs": []
    },
    {
      "cell_type": "code",
      "source": [
        "# Loading dataset\n",
        "dataset_path =  \"/content/GenerativeAI4DS-I/datasets/amazon_furniture_dataset.csv\"\n",
        "df = pd.read_csv(dataset_path).head(5)\n",
        "df.head()"
      ],
      "metadata": {
        "id": "SxUX8Q7nfxuh",
        "colab": {
          "base_uri": "https://localhost:8080/",
          "height": 724
        },
        "outputId": "bef8d20c-6371-4475-c9d8-ce2716ee6fda"
      },
      "execution_count": 7,
      "outputs": [
        {
          "output_type": "execute_result",
          "data": {
            "text/plain": [
              "         asin                                   url  \\\n",
              "0  B0CJHKVG6P  https://www.amazon.com/dp/B0CJHKVG6P   \n",
              "1  B0B66QHB23  https://www.amazon.com/dp/B0B66QHB23   \n",
              "2  B0BXRTWLYK  https://www.amazon.com/dp/B0BXRTWLYK   \n",
              "3  B0C1MRB2M8  https://www.amazon.com/dp/B0C1MRB2M8   \n",
              "4  B0CG1N9QRC  https://www.amazon.com/dp/B0CG1N9QRC   \n",
              "\n",
              "                                               title            brand   price  \\\n",
              "0  GOYMFK 1pc Free Standing Shoe Rack, Multi-laye...           GOYMFK  $24.99   \n",
              "1  subrtex Leather ding Room, Dining Chairs Set o...          subrtex     NaN   \n",
              "2  Plant Repotting Mat MUYETOL Waterproof Transpl...          MUYETOL   $5.98   \n",
              "3  Pickleball Doormat, Welcome Doormat Absorbent ...          VEWETOL  $13.99   \n",
              "4  JOIN IRON Foldable TV Trays for Eating Set of ...  JOIN IRON Store  $89.99   \n",
              "\n",
              "                          availability  \\\n",
              "0  Only 13 left in stock - order soon.   \n",
              "1                                  NaN   \n",
              "2                             In Stock   \n",
              "3  Only 10 left in stock - order soon.   \n",
              "4    Usually ships within 5 to 6 weeks   \n",
              "\n",
              "                                          categories  \\\n",
              "0  ['Home & Kitchen', 'Storage & Organization', '...   \n",
              "1  ['Home & Kitchen', 'Furniture', 'Dining Room F...   \n",
              "2  ['Patio, Lawn & Garden', 'Outdoor Décor', 'Doo...   \n",
              "3  ['Patio, Lawn & Garden', 'Outdoor Décor', 'Doo...   \n",
              "4  ['Home & Kitchen', 'Furniture', 'Game & Recrea...   \n",
              "\n",
              "                                       primary_image  \\\n",
              "0  https://m.media-amazon.com/images/I/416WaLx10j...   \n",
              "1  https://m.media-amazon.com/images/I/31SejUEWY7...   \n",
              "2  https://m.media-amazon.com/images/I/41RgefVq70...   \n",
              "3  https://m.media-amazon.com/images/I/61vz1Igler...   \n",
              "4  https://m.media-amazon.com/images/I/41p4d4VJnN...   \n",
              "\n",
              "                                              images  upc  ...          color  \\\n",
              "0  ['https://m.media-amazon.com/images/I/416WaLx1...  NaN  ...          White   \n",
              "1  ['https://m.media-amazon.com/images/I/31SejUEW...  NaN  ...          Black   \n",
              "2  ['https://m.media-amazon.com/images/I/41RgefVq...  NaN  ...          Green   \n",
              "3  ['https://m.media-amazon.com/images/I/61vz1Igl...  NaN  ...          A5589   \n",
              "4  ['https://m.media-amazon.com/images/I/41p4d4VJ...  NaN  ...  Grey Set of 4   \n",
              "\n",
              "       material              style important_information  \\\n",
              "0         Metal             Modern                    []   \n",
              "1        Sponge  Black Rubber Wood                    []   \n",
              "2  Polyethylene             Modern                    []   \n",
              "3        Rubber             Modern                    []   \n",
              "4          Iron    X Classic Style                    []   \n",
              "\n",
              "                                    product_overview  \\\n",
              "0  [{'Brand': ' GOYMFK '}, {'Color': ' White '}, ...   \n",
              "1                                                NaN   \n",
              "2  [{'Brand': ' MUYETOL '}, {'Size': ' 26.8*26.8 ...   \n",
              "3  [{'Brand': ' VEWETOL '}, {'Size': ' 16*24INCH ...   \n",
              "4                                                NaN   \n",
              "\n",
              "                                          about_item  \\\n",
              "0  ['Multiple layers: Provides ample storage spac...   \n",
              "1  ['【Easy Assembly】: Set of 2 dining room chairs...   \n",
              "2  ['PLANT REPOTTING MAT SIZE: 26.8\" x 26.8\", squ...   \n",
              "3  ['Specifications: 16x24 Inch ', \" High-Quality...   \n",
              "4  ['Includes 4 Folding Tv Tray Tables And one Co...   \n",
              "\n",
              "                                         description  \\\n",
              "0  multiple shoes, coats, hats, and other items E...   \n",
              "1                     subrtex Dining chairs Set of 2   \n",
              "2                                                NaN   \n",
              "3  The decorative doormat features a subtle textu...   \n",
              "4  Set of Four Folding Trays With Matching Storag...   \n",
              "\n",
              "                                      specifications  \\\n",
              "0  ['Brand: GOYMFK', 'Color: White', 'Material: M...   \n",
              "1  ['Brand: subrtex', 'Color: Black', 'Product Di...   \n",
              "2  ['Brand: MUYETOL', 'Size: 26.8*26.8', 'Item We...   \n",
              "3  ['Brand: VEWETOL', 'Size: 16*24INCH', 'Materia...   \n",
              "4  ['Brand: JOIN IRON', 'Shape: Rectangular', 'In...   \n",
              "\n",
              "                                uniq_id           scraped_at  \n",
              "0  02593e81-5c09-5069-8516-b0b29f439ded  2024-02-02 15:15:08  \n",
              "1  5938d217-b8c5-5d3e-b1cf-e28e340f292e  2024-02-02 15:15:09  \n",
              "2  b2ede786-3f51-5a45-9a5b-bcf856958cd8  2024-02-02 15:15:09  \n",
              "3  8fd9377b-cfa6-5f10-835c-6b8eca2816b5  2024-02-02 15:15:10  \n",
              "4  bdc9aa30-9439-50dc-8e89-213ea211d66a  2024-02-02 15:15:11  \n",
              "\n",
              "[5 rows x 25 columns]"
            ],
            "text/html": [
              "\n",
              "  <div id=\"df-c4d599c7-1084-43fe-a232-b15dcd35d0e4\" class=\"colab-df-container\">\n",
              "    <div>\n",
              "<style scoped>\n",
              "    .dataframe tbody tr th:only-of-type {\n",
              "        vertical-align: middle;\n",
              "    }\n",
              "\n",
              "    .dataframe tbody tr th {\n",
              "        vertical-align: top;\n",
              "    }\n",
              "\n",
              "    .dataframe thead th {\n",
              "        text-align: right;\n",
              "    }\n",
              "</style>\n",
              "<table border=\"1\" class=\"dataframe\">\n",
              "  <thead>\n",
              "    <tr style=\"text-align: right;\">\n",
              "      <th></th>\n",
              "      <th>asin</th>\n",
              "      <th>url</th>\n",
              "      <th>title</th>\n",
              "      <th>brand</th>\n",
              "      <th>price</th>\n",
              "      <th>availability</th>\n",
              "      <th>categories</th>\n",
              "      <th>primary_image</th>\n",
              "      <th>images</th>\n",
              "      <th>upc</th>\n",
              "      <th>...</th>\n",
              "      <th>color</th>\n",
              "      <th>material</th>\n",
              "      <th>style</th>\n",
              "      <th>important_information</th>\n",
              "      <th>product_overview</th>\n",
              "      <th>about_item</th>\n",
              "      <th>description</th>\n",
              "      <th>specifications</th>\n",
              "      <th>uniq_id</th>\n",
              "      <th>scraped_at</th>\n",
              "    </tr>\n",
              "  </thead>\n",
              "  <tbody>\n",
              "    <tr>\n",
              "      <th>0</th>\n",
              "      <td>B0CJHKVG6P</td>\n",
              "      <td>https://www.amazon.com/dp/B0CJHKVG6P</td>\n",
              "      <td>GOYMFK 1pc Free Standing Shoe Rack, Multi-laye...</td>\n",
              "      <td>GOYMFK</td>\n",
              "      <td>$24.99</td>\n",
              "      <td>Only 13 left in stock - order soon.</td>\n",
              "      <td>['Home &amp; Kitchen', 'Storage &amp; Organization', '...</td>\n",
              "      <td>https://m.media-amazon.com/images/I/416WaLx10j...</td>\n",
              "      <td>['https://m.media-amazon.com/images/I/416WaLx1...</td>\n",
              "      <td>NaN</td>\n",
              "      <td>...</td>\n",
              "      <td>White</td>\n",
              "      <td>Metal</td>\n",
              "      <td>Modern</td>\n",
              "      <td>[]</td>\n",
              "      <td>[{'Brand': ' GOYMFK '}, {'Color': ' White '}, ...</td>\n",
              "      <td>['Multiple layers: Provides ample storage spac...</td>\n",
              "      <td>multiple shoes, coats, hats, and other items E...</td>\n",
              "      <td>['Brand: GOYMFK', 'Color: White', 'Material: M...</td>\n",
              "      <td>02593e81-5c09-5069-8516-b0b29f439ded</td>\n",
              "      <td>2024-02-02 15:15:08</td>\n",
              "    </tr>\n",
              "    <tr>\n",
              "      <th>1</th>\n",
              "      <td>B0B66QHB23</td>\n",
              "      <td>https://www.amazon.com/dp/B0B66QHB23</td>\n",
              "      <td>subrtex Leather ding Room, Dining Chairs Set o...</td>\n",
              "      <td>subrtex</td>\n",
              "      <td>NaN</td>\n",
              "      <td>NaN</td>\n",
              "      <td>['Home &amp; Kitchen', 'Furniture', 'Dining Room F...</td>\n",
              "      <td>https://m.media-amazon.com/images/I/31SejUEWY7...</td>\n",
              "      <td>['https://m.media-amazon.com/images/I/31SejUEW...</td>\n",
              "      <td>NaN</td>\n",
              "      <td>...</td>\n",
              "      <td>Black</td>\n",
              "      <td>Sponge</td>\n",
              "      <td>Black Rubber Wood</td>\n",
              "      <td>[]</td>\n",
              "      <td>NaN</td>\n",
              "      <td>['【Easy Assembly】: Set of 2 dining room chairs...</td>\n",
              "      <td>subrtex Dining chairs Set of 2</td>\n",
              "      <td>['Brand: subrtex', 'Color: Black', 'Product Di...</td>\n",
              "      <td>5938d217-b8c5-5d3e-b1cf-e28e340f292e</td>\n",
              "      <td>2024-02-02 15:15:09</td>\n",
              "    </tr>\n",
              "    <tr>\n",
              "      <th>2</th>\n",
              "      <td>B0BXRTWLYK</td>\n",
              "      <td>https://www.amazon.com/dp/B0BXRTWLYK</td>\n",
              "      <td>Plant Repotting Mat MUYETOL Waterproof Transpl...</td>\n",
              "      <td>MUYETOL</td>\n",
              "      <td>$5.98</td>\n",
              "      <td>In Stock</td>\n",
              "      <td>['Patio, Lawn &amp; Garden', 'Outdoor Décor', 'Doo...</td>\n",
              "      <td>https://m.media-amazon.com/images/I/41RgefVq70...</td>\n",
              "      <td>['https://m.media-amazon.com/images/I/41RgefVq...</td>\n",
              "      <td>NaN</td>\n",
              "      <td>...</td>\n",
              "      <td>Green</td>\n",
              "      <td>Polyethylene</td>\n",
              "      <td>Modern</td>\n",
              "      <td>[]</td>\n",
              "      <td>[{'Brand': ' MUYETOL '}, {'Size': ' 26.8*26.8 ...</td>\n",
              "      <td>['PLANT REPOTTING MAT SIZE: 26.8\" x 26.8\", squ...</td>\n",
              "      <td>NaN</td>\n",
              "      <td>['Brand: MUYETOL', 'Size: 26.8*26.8', 'Item We...</td>\n",
              "      <td>b2ede786-3f51-5a45-9a5b-bcf856958cd8</td>\n",
              "      <td>2024-02-02 15:15:09</td>\n",
              "    </tr>\n",
              "    <tr>\n",
              "      <th>3</th>\n",
              "      <td>B0C1MRB2M8</td>\n",
              "      <td>https://www.amazon.com/dp/B0C1MRB2M8</td>\n",
              "      <td>Pickleball Doormat, Welcome Doormat Absorbent ...</td>\n",
              "      <td>VEWETOL</td>\n",
              "      <td>$13.99</td>\n",
              "      <td>Only 10 left in stock - order soon.</td>\n",
              "      <td>['Patio, Lawn &amp; Garden', 'Outdoor Décor', 'Doo...</td>\n",
              "      <td>https://m.media-amazon.com/images/I/61vz1Igler...</td>\n",
              "      <td>['https://m.media-amazon.com/images/I/61vz1Igl...</td>\n",
              "      <td>NaN</td>\n",
              "      <td>...</td>\n",
              "      <td>A5589</td>\n",
              "      <td>Rubber</td>\n",
              "      <td>Modern</td>\n",
              "      <td>[]</td>\n",
              "      <td>[{'Brand': ' VEWETOL '}, {'Size': ' 16*24INCH ...</td>\n",
              "      <td>['Specifications: 16x24 Inch ', \" High-Quality...</td>\n",
              "      <td>The decorative doormat features a subtle textu...</td>\n",
              "      <td>['Brand: VEWETOL', 'Size: 16*24INCH', 'Materia...</td>\n",
              "      <td>8fd9377b-cfa6-5f10-835c-6b8eca2816b5</td>\n",
              "      <td>2024-02-02 15:15:10</td>\n",
              "    </tr>\n",
              "    <tr>\n",
              "      <th>4</th>\n",
              "      <td>B0CG1N9QRC</td>\n",
              "      <td>https://www.amazon.com/dp/B0CG1N9QRC</td>\n",
              "      <td>JOIN IRON Foldable TV Trays for Eating Set of ...</td>\n",
              "      <td>JOIN IRON Store</td>\n",
              "      <td>$89.99</td>\n",
              "      <td>Usually ships within 5 to 6 weeks</td>\n",
              "      <td>['Home &amp; Kitchen', 'Furniture', 'Game &amp; Recrea...</td>\n",
              "      <td>https://m.media-amazon.com/images/I/41p4d4VJnN...</td>\n",
              "      <td>['https://m.media-amazon.com/images/I/41p4d4VJ...</td>\n",
              "      <td>NaN</td>\n",
              "      <td>...</td>\n",
              "      <td>Grey Set of 4</td>\n",
              "      <td>Iron</td>\n",
              "      <td>X Classic Style</td>\n",
              "      <td>[]</td>\n",
              "      <td>NaN</td>\n",
              "      <td>['Includes 4 Folding Tv Tray Tables And one Co...</td>\n",
              "      <td>Set of Four Folding Trays With Matching Storag...</td>\n",
              "      <td>['Brand: JOIN IRON', 'Shape: Rectangular', 'In...</td>\n",
              "      <td>bdc9aa30-9439-50dc-8e89-213ea211d66a</td>\n",
              "      <td>2024-02-02 15:15:11</td>\n",
              "    </tr>\n",
              "  </tbody>\n",
              "</table>\n",
              "<p>5 rows × 25 columns</p>\n",
              "</div>\n",
              "    <div class=\"colab-df-buttons\">\n",
              "\n",
              "  <div class=\"colab-df-container\">\n",
              "    <button class=\"colab-df-convert\" onclick=\"convertToInteractive('df-c4d599c7-1084-43fe-a232-b15dcd35d0e4')\"\n",
              "            title=\"Convert this dataframe to an interactive table.\"\n",
              "            style=\"display:none;\">\n",
              "\n",
              "  <svg xmlns=\"http://www.w3.org/2000/svg\" height=\"24px\" viewBox=\"0 -960 960 960\">\n",
              "    <path d=\"M120-120v-720h720v720H120Zm60-500h600v-160H180v160Zm220 220h160v-160H400v160Zm0 220h160v-160H400v160ZM180-400h160v-160H180v160Zm440 0h160v-160H620v160ZM180-180h160v-160H180v160Zm440 0h160v-160H620v160Z\"/>\n",
              "  </svg>\n",
              "    </button>\n",
              "\n",
              "  <style>\n",
              "    .colab-df-container {\n",
              "      display:flex;\n",
              "      gap: 12px;\n",
              "    }\n",
              "\n",
              "    .colab-df-convert {\n",
              "      background-color: #E8F0FE;\n",
              "      border: none;\n",
              "      border-radius: 50%;\n",
              "      cursor: pointer;\n",
              "      display: none;\n",
              "      fill: #1967D2;\n",
              "      height: 32px;\n",
              "      padding: 0 0 0 0;\n",
              "      width: 32px;\n",
              "    }\n",
              "\n",
              "    .colab-df-convert:hover {\n",
              "      background-color: #E2EBFA;\n",
              "      box-shadow: 0px 1px 2px rgba(60, 64, 67, 0.3), 0px 1px 3px 1px rgba(60, 64, 67, 0.15);\n",
              "      fill: #174EA6;\n",
              "    }\n",
              "\n",
              "    .colab-df-buttons div {\n",
              "      margin-bottom: 4px;\n",
              "    }\n",
              "\n",
              "    [theme=dark] .colab-df-convert {\n",
              "      background-color: #3B4455;\n",
              "      fill: #D2E3FC;\n",
              "    }\n",
              "\n",
              "    [theme=dark] .colab-df-convert:hover {\n",
              "      background-color: #434B5C;\n",
              "      box-shadow: 0px 1px 3px 1px rgba(0, 0, 0, 0.15);\n",
              "      filter: drop-shadow(0px 1px 2px rgba(0, 0, 0, 0.3));\n",
              "      fill: #FFFFFF;\n",
              "    }\n",
              "  </style>\n",
              "\n",
              "    <script>\n",
              "      const buttonEl =\n",
              "        document.querySelector('#df-c4d599c7-1084-43fe-a232-b15dcd35d0e4 button.colab-df-convert');\n",
              "      buttonEl.style.display =\n",
              "        google.colab.kernel.accessAllowed ? 'block' : 'none';\n",
              "\n",
              "      async function convertToInteractive(key) {\n",
              "        const element = document.querySelector('#df-c4d599c7-1084-43fe-a232-b15dcd35d0e4');\n",
              "        const dataTable =\n",
              "          await google.colab.kernel.invokeFunction('convertToInteractive',\n",
              "                                                    [key], {});\n",
              "        if (!dataTable) return;\n",
              "\n",
              "        const docLinkHtml = 'Like what you see? Visit the ' +\n",
              "          '<a target=\"_blank\" href=https://colab.research.google.com/notebooks/data_table.ipynb>data table notebook</a>'\n",
              "          + ' to learn more about interactive tables.';\n",
              "        element.innerHTML = '';\n",
              "        dataTable['output_type'] = 'display_data';\n",
              "        await google.colab.output.renderOutput(dataTable, element);\n",
              "        const docLink = document.createElement('div');\n",
              "        docLink.innerHTML = docLinkHtml;\n",
              "        element.appendChild(docLink);\n",
              "      }\n",
              "    </script>\n",
              "  </div>\n",
              "\n",
              "\n",
              "<div id=\"df-9682551a-e5b3-4212-8f32-08c9e6067b21\">\n",
              "  <button class=\"colab-df-quickchart\" onclick=\"quickchart('df-9682551a-e5b3-4212-8f32-08c9e6067b21')\"\n",
              "            title=\"Suggest charts\"\n",
              "            style=\"display:none;\">\n",
              "\n",
              "<svg xmlns=\"http://www.w3.org/2000/svg\" height=\"24px\"viewBox=\"0 0 24 24\"\n",
              "     width=\"24px\">\n",
              "    <g>\n",
              "        <path d=\"M19 3H5c-1.1 0-2 .9-2 2v14c0 1.1.9 2 2 2h14c1.1 0 2-.9 2-2V5c0-1.1-.9-2-2-2zM9 17H7v-7h2v7zm4 0h-2V7h2v10zm4 0h-2v-4h2v4z\"/>\n",
              "    </g>\n",
              "</svg>\n",
              "  </button>\n",
              "\n",
              "<style>\n",
              "  .colab-df-quickchart {\n",
              "      --bg-color: #E8F0FE;\n",
              "      --fill-color: #1967D2;\n",
              "      --hover-bg-color: #E2EBFA;\n",
              "      --hover-fill-color: #174EA6;\n",
              "      --disabled-fill-color: #AAA;\n",
              "      --disabled-bg-color: #DDD;\n",
              "  }\n",
              "\n",
              "  [theme=dark] .colab-df-quickchart {\n",
              "      --bg-color: #3B4455;\n",
              "      --fill-color: #D2E3FC;\n",
              "      --hover-bg-color: #434B5C;\n",
              "      --hover-fill-color: #FFFFFF;\n",
              "      --disabled-bg-color: #3B4455;\n",
              "      --disabled-fill-color: #666;\n",
              "  }\n",
              "\n",
              "  .colab-df-quickchart {\n",
              "    background-color: var(--bg-color);\n",
              "    border: none;\n",
              "    border-radius: 50%;\n",
              "    cursor: pointer;\n",
              "    display: none;\n",
              "    fill: var(--fill-color);\n",
              "    height: 32px;\n",
              "    padding: 0;\n",
              "    width: 32px;\n",
              "  }\n",
              "\n",
              "  .colab-df-quickchart:hover {\n",
              "    background-color: var(--hover-bg-color);\n",
              "    box-shadow: 0 1px 2px rgba(60, 64, 67, 0.3), 0 1px 3px 1px rgba(60, 64, 67, 0.15);\n",
              "    fill: var(--button-hover-fill-color);\n",
              "  }\n",
              "\n",
              "  .colab-df-quickchart-complete:disabled,\n",
              "  .colab-df-quickchart-complete:disabled:hover {\n",
              "    background-color: var(--disabled-bg-color);\n",
              "    fill: var(--disabled-fill-color);\n",
              "    box-shadow: none;\n",
              "  }\n",
              "\n",
              "  .colab-df-spinner {\n",
              "    border: 2px solid var(--fill-color);\n",
              "    border-color: transparent;\n",
              "    border-bottom-color: var(--fill-color);\n",
              "    animation:\n",
              "      spin 1s steps(1) infinite;\n",
              "  }\n",
              "\n",
              "  @keyframes spin {\n",
              "    0% {\n",
              "      border-color: transparent;\n",
              "      border-bottom-color: var(--fill-color);\n",
              "      border-left-color: var(--fill-color);\n",
              "    }\n",
              "    20% {\n",
              "      border-color: transparent;\n",
              "      border-left-color: var(--fill-color);\n",
              "      border-top-color: var(--fill-color);\n",
              "    }\n",
              "    30% {\n",
              "      border-color: transparent;\n",
              "      border-left-color: var(--fill-color);\n",
              "      border-top-color: var(--fill-color);\n",
              "      border-right-color: var(--fill-color);\n",
              "    }\n",
              "    40% {\n",
              "      border-color: transparent;\n",
              "      border-right-color: var(--fill-color);\n",
              "      border-top-color: var(--fill-color);\n",
              "    }\n",
              "    60% {\n",
              "      border-color: transparent;\n",
              "      border-right-color: var(--fill-color);\n",
              "    }\n",
              "    80% {\n",
              "      border-color: transparent;\n",
              "      border-right-color: var(--fill-color);\n",
              "      border-bottom-color: var(--fill-color);\n",
              "    }\n",
              "    90% {\n",
              "      border-color: transparent;\n",
              "      border-bottom-color: var(--fill-color);\n",
              "    }\n",
              "  }\n",
              "</style>\n",
              "\n",
              "  <script>\n",
              "    async function quickchart(key) {\n",
              "      const quickchartButtonEl =\n",
              "        document.querySelector('#' + key + ' button');\n",
              "      quickchartButtonEl.disabled = true;  // To prevent multiple clicks.\n",
              "      quickchartButtonEl.classList.add('colab-df-spinner');\n",
              "      try {\n",
              "        const charts = await google.colab.kernel.invokeFunction(\n",
              "            'suggestCharts', [key], {});\n",
              "      } catch (error) {\n",
              "        console.error('Error during call to suggestCharts:', error);\n",
              "      }\n",
              "      quickchartButtonEl.classList.remove('colab-df-spinner');\n",
              "      quickchartButtonEl.classList.add('colab-df-quickchart-complete');\n",
              "    }\n",
              "    (() => {\n",
              "      let quickchartButtonEl =\n",
              "        document.querySelector('#df-9682551a-e5b3-4212-8f32-08c9e6067b21 button');\n",
              "      quickchartButtonEl.style.display =\n",
              "        google.colab.kernel.accessAllowed ? 'block' : 'none';\n",
              "    })();\n",
              "  </script>\n",
              "</div>\n",
              "    </div>\n",
              "  </div>\n"
            ],
            "application/vnd.google.colaboratory.intrinsic+json": {
              "type": "dataframe",
              "variable_name": "df"
            }
          },
          "metadata": {},
          "execution_count": 7
        }
      ]
    },
    {
      "cell_type": "markdown",
      "source": [
        "# 2. Image Tagging\n",
        "In this section, we'll use GPT-4Vision to generate relevant tags for our products.\n",
        "\n",
        "We'll use a simple zero-shot approach to extract keywords, and deduplicate those keywords using embeddings to avoid having multiple keywords that are too similar.\n",
        "\n",
        "We will use a combination of an image and the product title to avoid extracting keywords for other items that are depicted in the image - sometimes there are multiple items used in the scene and we want to focus on just the one we want to tag.\n"
      ],
      "metadata": {
        "id": "5cmH04nRXM8f"
      }
    },
    {
      "cell_type": "markdown",
      "source": [
        "### 2.1. Extract keywords from images\n"
      ],
      "metadata": {
        "id": "sEm1hzrarL4r"
      }
    },
    {
      "cell_type": "code",
      "source": [
        "system_prompt = '''\n",
        "    You are an agent specialized in tagging images of furniture items, decorative items, or furnishings with relevant keywords that could be used to search for these items on a marketplace.\n",
        "\n",
        "    You will be provided with an image and the title of the item that is depicted in the image, and your goal is to extract keywords for only the item specified.\n",
        "\n",
        "    Keywords should be concise and in lower case.\n",
        "\n",
        "    Keywords can describe things like:\n",
        "    - Item type e.g. 'sofa bed', 'chair', 'desk', 'plant'\n",
        "    - Item material e.g. 'wood', 'metal', 'fabric'\n",
        "    - Item style e.g. 'scandinavian', 'vintage', 'industrial'\n",
        "    - Item color e.g. 'red', 'blue', 'white'\n",
        "\n",
        "    Only deduce material, style or color keywords when it is obvious that they make the item depicted in the image stand out.\n",
        "\n",
        "    Return keywords in the format of an array of strings, like this:\n",
        "    ['desk', 'industrial', 'metal']\n",
        "\n",
        "'''"
      ],
      "metadata": {
        "id": "J7HtoW3jig0y"
      },
      "execution_count": 8,
      "outputs": []
    },
    {
      "cell_type": "code",
      "source": [
        "def analyze_image(img_url, title):\n",
        "    response = client.chat.completions.create(\n",
        "    model=\"gpt-4-vision-preview\",\n",
        "    messages=[\n",
        "        {\n",
        "            \"role\": \"system\",\n",
        "            \"content\": system_prompt\n",
        "        },\n",
        "        {\n",
        "            \"role\": \"user\",\n",
        "            \"content\": [\n",
        "                {\n",
        "                    \"type\": \"image_url\",\n",
        "                    \"image_url\": img_url,\n",
        "                },\n",
        "            ],\n",
        "        },\n",
        "        {\n",
        "            \"role\": \"user\",\n",
        "            \"content\": title\n",
        "        }\n",
        "    ],\n",
        "        max_tokens=300,\n",
        "        top_p=0.1\n",
        "    )\n",
        "\n",
        "    return response.choices[0].message.content"
      ],
      "metadata": {
        "id": "jpXeLp3TEVRm"
      },
      "execution_count": 9,
      "outputs": []
    },
    {
      "cell_type": "code",
      "source": [],
      "metadata": {
        "id": "L-0YW9CcDlGw"
      },
      "execution_count": 9,
      "outputs": []
    },
    {
      "cell_type": "markdown",
      "source": [
        "#### Let's try with some examples"
      ],
      "metadata": {
        "id": "a_Xrf8FrBjkl"
      }
    },
    {
      "cell_type": "code",
      "source": [
        "examples = df.iloc[:5]"
      ],
      "metadata": {
        "id": "W2Sr_zmdARE1"
      },
      "execution_count": 10,
      "outputs": []
    },
    {
      "cell_type": "code",
      "source": [
        "for index, ex in examples.iterrows():\n",
        "    url = ex['primary_image']\n",
        "    img = Image(url=url)\n",
        "    display(img)\n",
        "    result = analyze_image(url, ex['title'])\n",
        "    print(result)\n",
        "    print(\"\\n\\n\")"
      ],
      "metadata": {
        "colab": {
          "base_uri": "https://localhost:8080/",
          "height": 1000
        },
        "id": "ZU2Xc8FeARCO",
        "outputId": "6736b1f0-3ec1-42b5-b2dd-3849dfbf3e55"
      },
      "execution_count": 11,
      "outputs": [
        {
          "output_type": "display_data",
          "data": {
            "text/html": [
              "<img src=\"https://m.media-amazon.com/images/I/416WaLx10jL._SS522_.jpg\"/>"
            ],
            "text/plain": [
              "<IPython.core.display.Image object>"
            ]
          },
          "metadata": {}
        },
        {
          "output_type": "stream",
          "name": "stdout",
          "text": [
            "['shoe rack', 'free standing', 'multi-layer', 'metal', 'white', 'with hooks']\n",
            "\n",
            "\n",
            "\n"
          ]
        },
        {
          "output_type": "display_data",
          "data": {
            "text/html": [
              "<img src=\"https://m.media-amazon.com/images/I/31SejUEWY7L._SS522_.jpg\"/>"
            ],
            "text/plain": [
              "<IPython.core.display.Image object>"
            ]
          },
          "metadata": {}
        },
        {
          "output_type": "stream",
          "name": "stdout",
          "text": [
            "['dining chairs', 'set of 2', 'leather', 'black']\n",
            "\n",
            "\n",
            "\n"
          ]
        },
        {
          "output_type": "display_data",
          "data": {
            "text/html": [
              "<img src=\"https://m.media-amazon.com/images/I/41RgefVq70L._SS522_.jpg\"/>"
            ],
            "text/plain": [
              "<IPython.core.display.Image object>"
            ]
          },
          "metadata": {}
        },
        {
          "output_type": "stream",
          "name": "stdout",
          "text": [
            "['plant repotting mat', 'waterproof', 'portable', 'foldable', 'easy to clean', 'green']\n",
            "\n",
            "\n",
            "\n"
          ]
        },
        {
          "output_type": "display_data",
          "data": {
            "text/html": [
              "<img src=\"https://m.media-amazon.com/images/I/61vz1IglerL._SS522_.jpg\"/>"
            ],
            "text/plain": [
              "<IPython.core.display.Image object>"
            ]
          },
          "metadata": {}
        },
        {
          "output_type": "stream",
          "name": "stdout",
          "text": [
            "['doormat', 'absorbent', 'non-slip', 'brown', 'coir']\n",
            "\n",
            "\n",
            "\n"
          ]
        },
        {
          "output_type": "display_data",
          "data": {
            "text/html": [
              "<img src=\"https://m.media-amazon.com/images/I/41p4d4VJnNL._SS522_.jpg\"/>"
            ],
            "text/plain": [
              "<IPython.core.display.Image object>"
            ]
          },
          "metadata": {}
        },
        {
          "output_type": "stream",
          "name": "stdout",
          "text": [
            "['tv tray table set', 'foldable', 'metal', 'grey']\n",
            "\n",
            "\n",
            "\n"
          ]
        }
      ]
    },
    {
      "cell_type": "markdown",
      "source": [
        "# 3. Captions generation\n",
        "In this section, we'll use GPT-4V to generate an image description"
      ],
      "metadata": {
        "id": "Z6rJEVJHGNwn"
      }
    },
    {
      "cell_type": "code",
      "source": [
        "# Cleaning up dataset columns\n",
        "selected_columns = ['title', 'primary_image', 'style', 'material', 'color', 'url']\n",
        "df = df[selected_columns].copy()\n",
        "df.head()"
      ],
      "metadata": {
        "colab": {
          "base_uri": "https://localhost:8080/",
          "height": 206
        },
        "id": "Ho4Mtup3AQ_n",
        "outputId": "401a9f85-6dcc-4658-db57-96602f82fbde"
      },
      "execution_count": 12,
      "outputs": [
        {
          "output_type": "execute_result",
          "data": {
            "text/plain": [
              "                                               title  \\\n",
              "0  GOYMFK 1pc Free Standing Shoe Rack, Multi-laye...   \n",
              "1  subrtex Leather ding Room, Dining Chairs Set o...   \n",
              "2  Plant Repotting Mat MUYETOL Waterproof Transpl...   \n",
              "3  Pickleball Doormat, Welcome Doormat Absorbent ...   \n",
              "4  JOIN IRON Foldable TV Trays for Eating Set of ...   \n",
              "\n",
              "                                       primary_image              style  \\\n",
              "0  https://m.media-amazon.com/images/I/416WaLx10j...             Modern   \n",
              "1  https://m.media-amazon.com/images/I/31SejUEWY7...  Black Rubber Wood   \n",
              "2  https://m.media-amazon.com/images/I/41RgefVq70...             Modern   \n",
              "3  https://m.media-amazon.com/images/I/61vz1Igler...             Modern   \n",
              "4  https://m.media-amazon.com/images/I/41p4d4VJnN...    X Classic Style   \n",
              "\n",
              "       material          color                                   url  \n",
              "0         Metal          White  https://www.amazon.com/dp/B0CJHKVG6P  \n",
              "1        Sponge          Black  https://www.amazon.com/dp/B0B66QHB23  \n",
              "2  Polyethylene          Green  https://www.amazon.com/dp/B0BXRTWLYK  \n",
              "3        Rubber          A5589  https://www.amazon.com/dp/B0C1MRB2M8  \n",
              "4          Iron  Grey Set of 4  https://www.amazon.com/dp/B0CG1N9QRC  "
            ],
            "text/html": [
              "\n",
              "  <div id=\"df-210a9ee1-85af-4d40-a93f-94f9e7f90519\" class=\"colab-df-container\">\n",
              "    <div>\n",
              "<style scoped>\n",
              "    .dataframe tbody tr th:only-of-type {\n",
              "        vertical-align: middle;\n",
              "    }\n",
              "\n",
              "    .dataframe tbody tr th {\n",
              "        vertical-align: top;\n",
              "    }\n",
              "\n",
              "    .dataframe thead th {\n",
              "        text-align: right;\n",
              "    }\n",
              "</style>\n",
              "<table border=\"1\" class=\"dataframe\">\n",
              "  <thead>\n",
              "    <tr style=\"text-align: right;\">\n",
              "      <th></th>\n",
              "      <th>title</th>\n",
              "      <th>primary_image</th>\n",
              "      <th>style</th>\n",
              "      <th>material</th>\n",
              "      <th>color</th>\n",
              "      <th>url</th>\n",
              "    </tr>\n",
              "  </thead>\n",
              "  <tbody>\n",
              "    <tr>\n",
              "      <th>0</th>\n",
              "      <td>GOYMFK 1pc Free Standing Shoe Rack, Multi-laye...</td>\n",
              "      <td>https://m.media-amazon.com/images/I/416WaLx10j...</td>\n",
              "      <td>Modern</td>\n",
              "      <td>Metal</td>\n",
              "      <td>White</td>\n",
              "      <td>https://www.amazon.com/dp/B0CJHKVG6P</td>\n",
              "    </tr>\n",
              "    <tr>\n",
              "      <th>1</th>\n",
              "      <td>subrtex Leather ding Room, Dining Chairs Set o...</td>\n",
              "      <td>https://m.media-amazon.com/images/I/31SejUEWY7...</td>\n",
              "      <td>Black Rubber Wood</td>\n",
              "      <td>Sponge</td>\n",
              "      <td>Black</td>\n",
              "      <td>https://www.amazon.com/dp/B0B66QHB23</td>\n",
              "    </tr>\n",
              "    <tr>\n",
              "      <th>2</th>\n",
              "      <td>Plant Repotting Mat MUYETOL Waterproof Transpl...</td>\n",
              "      <td>https://m.media-amazon.com/images/I/41RgefVq70...</td>\n",
              "      <td>Modern</td>\n",
              "      <td>Polyethylene</td>\n",
              "      <td>Green</td>\n",
              "      <td>https://www.amazon.com/dp/B0BXRTWLYK</td>\n",
              "    </tr>\n",
              "    <tr>\n",
              "      <th>3</th>\n",
              "      <td>Pickleball Doormat, Welcome Doormat Absorbent ...</td>\n",
              "      <td>https://m.media-amazon.com/images/I/61vz1Igler...</td>\n",
              "      <td>Modern</td>\n",
              "      <td>Rubber</td>\n",
              "      <td>A5589</td>\n",
              "      <td>https://www.amazon.com/dp/B0C1MRB2M8</td>\n",
              "    </tr>\n",
              "    <tr>\n",
              "      <th>4</th>\n",
              "      <td>JOIN IRON Foldable TV Trays for Eating Set of ...</td>\n",
              "      <td>https://m.media-amazon.com/images/I/41p4d4VJnN...</td>\n",
              "      <td>X Classic Style</td>\n",
              "      <td>Iron</td>\n",
              "      <td>Grey Set of 4</td>\n",
              "      <td>https://www.amazon.com/dp/B0CG1N9QRC</td>\n",
              "    </tr>\n",
              "  </tbody>\n",
              "</table>\n",
              "</div>\n",
              "    <div class=\"colab-df-buttons\">\n",
              "\n",
              "  <div class=\"colab-df-container\">\n",
              "    <button class=\"colab-df-convert\" onclick=\"convertToInteractive('df-210a9ee1-85af-4d40-a93f-94f9e7f90519')\"\n",
              "            title=\"Convert this dataframe to an interactive table.\"\n",
              "            style=\"display:none;\">\n",
              "\n",
              "  <svg xmlns=\"http://www.w3.org/2000/svg\" height=\"24px\" viewBox=\"0 -960 960 960\">\n",
              "    <path d=\"M120-120v-720h720v720H120Zm60-500h600v-160H180v160Zm220 220h160v-160H400v160Zm0 220h160v-160H400v160ZM180-400h160v-160H180v160Zm440 0h160v-160H620v160ZM180-180h160v-160H180v160Zm440 0h160v-160H620v160Z\"/>\n",
              "  </svg>\n",
              "    </button>\n",
              "\n",
              "  <style>\n",
              "    .colab-df-container {\n",
              "      display:flex;\n",
              "      gap: 12px;\n",
              "    }\n",
              "\n",
              "    .colab-df-convert {\n",
              "      background-color: #E8F0FE;\n",
              "      border: none;\n",
              "      border-radius: 50%;\n",
              "      cursor: pointer;\n",
              "      display: none;\n",
              "      fill: #1967D2;\n",
              "      height: 32px;\n",
              "      padding: 0 0 0 0;\n",
              "      width: 32px;\n",
              "    }\n",
              "\n",
              "    .colab-df-convert:hover {\n",
              "      background-color: #E2EBFA;\n",
              "      box-shadow: 0px 1px 2px rgba(60, 64, 67, 0.3), 0px 1px 3px 1px rgba(60, 64, 67, 0.15);\n",
              "      fill: #174EA6;\n",
              "    }\n",
              "\n",
              "    .colab-df-buttons div {\n",
              "      margin-bottom: 4px;\n",
              "    }\n",
              "\n",
              "    [theme=dark] .colab-df-convert {\n",
              "      background-color: #3B4455;\n",
              "      fill: #D2E3FC;\n",
              "    }\n",
              "\n",
              "    [theme=dark] .colab-df-convert:hover {\n",
              "      background-color: #434B5C;\n",
              "      box-shadow: 0px 1px 3px 1px rgba(0, 0, 0, 0.15);\n",
              "      filter: drop-shadow(0px 1px 2px rgba(0, 0, 0, 0.3));\n",
              "      fill: #FFFFFF;\n",
              "    }\n",
              "  </style>\n",
              "\n",
              "    <script>\n",
              "      const buttonEl =\n",
              "        document.querySelector('#df-210a9ee1-85af-4d40-a93f-94f9e7f90519 button.colab-df-convert');\n",
              "      buttonEl.style.display =\n",
              "        google.colab.kernel.accessAllowed ? 'block' : 'none';\n",
              "\n",
              "      async function convertToInteractive(key) {\n",
              "        const element = document.querySelector('#df-210a9ee1-85af-4d40-a93f-94f9e7f90519');\n",
              "        const dataTable =\n",
              "          await google.colab.kernel.invokeFunction('convertToInteractive',\n",
              "                                                    [key], {});\n",
              "        if (!dataTable) return;\n",
              "\n",
              "        const docLinkHtml = 'Like what you see? Visit the ' +\n",
              "          '<a target=\"_blank\" href=https://colab.research.google.com/notebooks/data_table.ipynb>data table notebook</a>'\n",
              "          + ' to learn more about interactive tables.';\n",
              "        element.innerHTML = '';\n",
              "        dataTable['output_type'] = 'display_data';\n",
              "        await google.colab.output.renderOutput(dataTable, element);\n",
              "        const docLink = document.createElement('div');\n",
              "        docLink.innerHTML = docLinkHtml;\n",
              "        element.appendChild(docLink);\n",
              "      }\n",
              "    </script>\n",
              "  </div>\n",
              "\n",
              "\n",
              "<div id=\"df-8f91aea3-7f23-41d5-a0ca-951a598d6646\">\n",
              "  <button class=\"colab-df-quickchart\" onclick=\"quickchart('df-8f91aea3-7f23-41d5-a0ca-951a598d6646')\"\n",
              "            title=\"Suggest charts\"\n",
              "            style=\"display:none;\">\n",
              "\n",
              "<svg xmlns=\"http://www.w3.org/2000/svg\" height=\"24px\"viewBox=\"0 0 24 24\"\n",
              "     width=\"24px\">\n",
              "    <g>\n",
              "        <path d=\"M19 3H5c-1.1 0-2 .9-2 2v14c0 1.1.9 2 2 2h14c1.1 0 2-.9 2-2V5c0-1.1-.9-2-2-2zM9 17H7v-7h2v7zm4 0h-2V7h2v10zm4 0h-2v-4h2v4z\"/>\n",
              "    </g>\n",
              "</svg>\n",
              "  </button>\n",
              "\n",
              "<style>\n",
              "  .colab-df-quickchart {\n",
              "      --bg-color: #E8F0FE;\n",
              "      --fill-color: #1967D2;\n",
              "      --hover-bg-color: #E2EBFA;\n",
              "      --hover-fill-color: #174EA6;\n",
              "      --disabled-fill-color: #AAA;\n",
              "      --disabled-bg-color: #DDD;\n",
              "  }\n",
              "\n",
              "  [theme=dark] .colab-df-quickchart {\n",
              "      --bg-color: #3B4455;\n",
              "      --fill-color: #D2E3FC;\n",
              "      --hover-bg-color: #434B5C;\n",
              "      --hover-fill-color: #FFFFFF;\n",
              "      --disabled-bg-color: #3B4455;\n",
              "      --disabled-fill-color: #666;\n",
              "  }\n",
              "\n",
              "  .colab-df-quickchart {\n",
              "    background-color: var(--bg-color);\n",
              "    border: none;\n",
              "    border-radius: 50%;\n",
              "    cursor: pointer;\n",
              "    display: none;\n",
              "    fill: var(--fill-color);\n",
              "    height: 32px;\n",
              "    padding: 0;\n",
              "    width: 32px;\n",
              "  }\n",
              "\n",
              "  .colab-df-quickchart:hover {\n",
              "    background-color: var(--hover-bg-color);\n",
              "    box-shadow: 0 1px 2px rgba(60, 64, 67, 0.3), 0 1px 3px 1px rgba(60, 64, 67, 0.15);\n",
              "    fill: var(--button-hover-fill-color);\n",
              "  }\n",
              "\n",
              "  .colab-df-quickchart-complete:disabled,\n",
              "  .colab-df-quickchart-complete:disabled:hover {\n",
              "    background-color: var(--disabled-bg-color);\n",
              "    fill: var(--disabled-fill-color);\n",
              "    box-shadow: none;\n",
              "  }\n",
              "\n",
              "  .colab-df-spinner {\n",
              "    border: 2px solid var(--fill-color);\n",
              "    border-color: transparent;\n",
              "    border-bottom-color: var(--fill-color);\n",
              "    animation:\n",
              "      spin 1s steps(1) infinite;\n",
              "  }\n",
              "\n",
              "  @keyframes spin {\n",
              "    0% {\n",
              "      border-color: transparent;\n",
              "      border-bottom-color: var(--fill-color);\n",
              "      border-left-color: var(--fill-color);\n",
              "    }\n",
              "    20% {\n",
              "      border-color: transparent;\n",
              "      border-left-color: var(--fill-color);\n",
              "      border-top-color: var(--fill-color);\n",
              "    }\n",
              "    30% {\n",
              "      border-color: transparent;\n",
              "      border-left-color: var(--fill-color);\n",
              "      border-top-color: var(--fill-color);\n",
              "      border-right-color: var(--fill-color);\n",
              "    }\n",
              "    40% {\n",
              "      border-color: transparent;\n",
              "      border-right-color: var(--fill-color);\n",
              "      border-top-color: var(--fill-color);\n",
              "    }\n",
              "    60% {\n",
              "      border-color: transparent;\n",
              "      border-right-color: var(--fill-color);\n",
              "    }\n",
              "    80% {\n",
              "      border-color: transparent;\n",
              "      border-right-color: var(--fill-color);\n",
              "      border-bottom-color: var(--fill-color);\n",
              "    }\n",
              "    90% {\n",
              "      border-color: transparent;\n",
              "      border-bottom-color: var(--fill-color);\n",
              "    }\n",
              "  }\n",
              "</style>\n",
              "\n",
              "  <script>\n",
              "    async function quickchart(key) {\n",
              "      const quickchartButtonEl =\n",
              "        document.querySelector('#' + key + ' button');\n",
              "      quickchartButtonEl.disabled = true;  // To prevent multiple clicks.\n",
              "      quickchartButtonEl.classList.add('colab-df-spinner');\n",
              "      try {\n",
              "        const charts = await google.colab.kernel.invokeFunction(\n",
              "            'suggestCharts', [key], {});\n",
              "      } catch (error) {\n",
              "        console.error('Error during call to suggestCharts:', error);\n",
              "      }\n",
              "      quickchartButtonEl.classList.remove('colab-df-spinner');\n",
              "      quickchartButtonEl.classList.add('colab-df-quickchart-complete');\n",
              "    }\n",
              "    (() => {\n",
              "      let quickchartButtonEl =\n",
              "        document.querySelector('#df-8f91aea3-7f23-41d5-a0ca-951a598d6646 button');\n",
              "      quickchartButtonEl.style.display =\n",
              "        google.colab.kernel.accessAllowed ? 'block' : 'none';\n",
              "    })();\n",
              "  </script>\n",
              "</div>\n",
              "    </div>\n",
              "  </div>\n"
            ],
            "application/vnd.google.colaboratory.intrinsic+json": {
              "type": "dataframe",
              "variable_name": "df",
              "summary": "{\n  \"name\": \"df\",\n  \"rows\": 5,\n  \"fields\": [\n    {\n      \"column\": \"title\",\n      \"properties\": {\n        \"dtype\": \"string\",\n        \"num_unique_values\": 5,\n        \"samples\": [\n          \"subrtex Leather ding Room, Dining Chairs Set of 2, Black\",\n          \"JOIN IRON Foldable TV Trays for Eating Set of 4 with Stand,Folding TV/Snack Tray Table Set,Folding TV Dinner Tables for Small Space,(Grey)\",\n          \"Plant Repotting Mat MUYETOL Waterproof Transplanting Mat Indoor 26.8\\\" x 26.8\\\" Portable Square Foldable Easy to Clean Gardening Work Mat Soil Changing Mat Succulent Plant Transplanting Mat Garden Gifts\"\n        ],\n        \"semantic_type\": \"\",\n        \"description\": \"\"\n      }\n    },\n    {\n      \"column\": \"primary_image\",\n      \"properties\": {\n        \"dtype\": \"string\",\n        \"num_unique_values\": 5,\n        \"samples\": [\n          \"https://m.media-amazon.com/images/I/31SejUEWY7L._SS522_.jpg\",\n          \"https://m.media-amazon.com/images/I/41p4d4VJnNL._SS522_.jpg\",\n          \"https://m.media-amazon.com/images/I/41RgefVq70L._SS522_.jpg\"\n        ],\n        \"semantic_type\": \"\",\n        \"description\": \"\"\n      }\n    },\n    {\n      \"column\": \"style\",\n      \"properties\": {\n        \"dtype\": \"string\",\n        \"num_unique_values\": 3,\n        \"samples\": [\n          \"Modern\",\n          \"Black Rubber Wood\",\n          \"X Classic Style\"\n        ],\n        \"semantic_type\": \"\",\n        \"description\": \"\"\n      }\n    },\n    {\n      \"column\": \"material\",\n      \"properties\": {\n        \"dtype\": \"string\",\n        \"num_unique_values\": 5,\n        \"samples\": [\n          \"Sponge\",\n          \"Iron\",\n          \"Polyethylene\"\n        ],\n        \"semantic_type\": \"\",\n        \"description\": \"\"\n      }\n    },\n    {\n      \"column\": \"color\",\n      \"properties\": {\n        \"dtype\": \"string\",\n        \"num_unique_values\": 5,\n        \"samples\": [\n          \"Black\",\n          \"Grey Set of 4\",\n          \"Green\"\n        ],\n        \"semantic_type\": \"\",\n        \"description\": \"\"\n      }\n    },\n    {\n      \"column\": \"url\",\n      \"properties\": {\n        \"dtype\": \"string\",\n        \"num_unique_values\": 5,\n        \"samples\": [\n          \"https://www.amazon.com/dp/B0B66QHB23\",\n          \"https://www.amazon.com/dp/B0CG1N9QRC\",\n          \"https://www.amazon.com/dp/B0BXRTWLYK\"\n        ],\n        \"semantic_type\": \"\",\n        \"description\": \"\"\n      }\n    }\n  ]\n}"
            }
          },
          "metadata": {},
          "execution_count": 12
        }
      ]
    },
    {
      "cell_type": "code",
      "source": [
        "describe_system_prompt = '''\n",
        "    You are a system generating descriptions for furniture items, decorative items, or furnishings on an e-commerce website.\n",
        "    Provided with an image and a title, you will describe the main item that you see in the image, giving details but staying concise.\n",
        "    You can describe unambiguously what the item is and its material, color, and style if clearly identifiable.\n",
        "    If there are multiple items depicted, refer to the title to understand which item you should describe.\n",
        "    '''"
      ],
      "metadata": {
        "id": "hz6fHLvFAQ9R"
      },
      "execution_count": 13,
      "outputs": []
    },
    {
      "cell_type": "code",
      "source": [
        "def describe_image(img_url, title):\n",
        "    response = client.chat.completions.create(\n",
        "    model=\"gpt-4-vision-preview\",\n",
        "    temperature=0.2,\n",
        "    messages=[\n",
        "        {\n",
        "            \"role\": \"system\",\n",
        "            \"content\": describe_system_prompt\n",
        "        },\n",
        "        {\n",
        "            \"role\": \"user\",\n",
        "            \"content\": [\n",
        "                {\n",
        "                    \"type\": \"image_url\",\n",
        "                    \"image_url\": img_url,\n",
        "                },\n",
        "            ],\n",
        "        },\n",
        "        {\n",
        "            \"role\": \"user\",\n",
        "            \"content\": title\n",
        "        }\n",
        "    ],\n",
        "    max_tokens=300,\n",
        "    )\n",
        "\n",
        "    return response.choices[0].message.content"
      ],
      "metadata": {
        "id": "DBjIyZ2gAQ6q"
      },
      "execution_count": 14,
      "outputs": []
    },
    {
      "cell_type": "code",
      "source": [
        "for index, row in examples.iterrows():\n",
        "    print(f\"{row['title'][:50]}{'...' if len(row['title']) > 50 else ''} - {row['url']} :\\n\")\n",
        "    img_description = describe_image(row['primary_image'], row['title'])\n",
        "    img = Image(url=row['primary_image'])\n",
        "    display(img)\n",
        "    print(f\"{img_description}\\n--------------------------\\n\")"
      ],
      "metadata": {
        "colab": {
          "base_uri": "https://localhost:8080/",
          "height": 1000
        },
        "id": "-kklIDzKAQ4V",
        "outputId": "48a08ecf-6746-46e0-d55c-1319045b6248"
      },
      "execution_count": 15,
      "outputs": [
        {
          "output_type": "stream",
          "name": "stdout",
          "text": [
            "GOYMFK 1pc Free Standing Shoe Rack, Multi-layer Me... - https://www.amazon.com/dp/B0CJHKVG6P :\n",
            "\n"
          ]
        },
        {
          "output_type": "display_data",
          "data": {
            "text/html": [
              "<img src=\"https://m.media-amazon.com/images/I/416WaLx10jL._SS522_.jpg\"/>"
            ],
            "text/plain": [
              "<IPython.core.display.Image object>"
            ]
          },
          "metadata": {}
        },
        {
          "output_type": "stream",
          "name": "stdout",
          "text": [
            "This is a multi-functional free-standing shoe rack featuring a sleek metal construction with a white finish. It is designed with multiple layers to accommodate a variety of shoes, showcasing at least four tiers dedicated to shoe storage. Additionally, the rack includes a vertical section with 8 double hooks, suitable for hanging items such as hats, scarves, and bags. The overall design is clean and modern, making it a versatile piece for organizing footwear and accessories in a living room, bathroom, or hallway. The rack's open design allows for easy visibility and access to the stored items.\n",
            "--------------------------\n",
            "\n",
            "subrtex Leather ding Room, Dining Chairs Set of 2,... - https://www.amazon.com/dp/B0B66QHB23 :\n",
            "\n"
          ]
        },
        {
          "output_type": "display_data",
          "data": {
            "text/html": [
              "<img src=\"https://m.media-amazon.com/images/I/31SejUEWY7L._SS522_.jpg\"/>"
            ],
            "text/plain": [
              "<IPython.core.display.Image object>"
            ]
          },
          "metadata": {}
        },
        {
          "output_type": "stream",
          "name": "stdout",
          "text": [
            "This image features a set of two black dining chairs. The chairs are upholstered in a leather-like material, providing a sleek and sophisticated appearance. They have a contemporary design, with clean lines and minimal embellishments, which includes subtle stitching details on the backrest for added texture and interest. The chairs are supported by four straight legs that match the color of the upholstery, creating a uniform and elegant look. These chairs would make a stylish addition to any modern dining room setting.\n",
            "--------------------------\n",
            "\n",
            "Plant Repotting Mat MUYETOL Waterproof Transplanti... - https://www.amazon.com/dp/B0BXRTWLYK :\n",
            "\n"
          ]
        },
        {
          "output_type": "display_data",
          "data": {
            "text/html": [
              "<img src=\"https://m.media-amazon.com/images/I/41RgefVq70L._SS522_.jpg\"/>"
            ],
            "text/plain": [
              "<IPython.core.display.Image object>"
            ]
          },
          "metadata": {}
        },
        {
          "output_type": "stream",
          "name": "stdout",
          "text": [
            "This is a Plant Repotting Mat designed for indoor gardening tasks such as transplanting and repotting plants. The mat is square-shaped, measuring approximately 26.8 inches by 26.8 inches, providing ample space for gardening work. It is made from a waterproof material in a vibrant green color, which makes it easy to spot dirt and debris. The edges of the mat are raised with built-in corner tabs to keep soil and water contained, reducing mess during plant maintenance. The mat is foldable, making it portable and convenient to store when not in use. It is also easy to clean, which is ideal for repeated use. This mat can be a practical accessory for gardeners, serving as a protective surface for soil changing and other gardening activities, and it can also be a thoughtful gift for those who enjoy caring for plants.\n",
            "--------------------------\n",
            "\n",
            "Pickleball Doormat, Welcome Doormat Absorbent Non-... - https://www.amazon.com/dp/B0C1MRB2M8 :\n",
            "\n"
          ]
        },
        {
          "output_type": "display_data",
          "data": {
            "text/html": [
              "<img src=\"https://m.media-amazon.com/images/I/61vz1IglerL._SS522_.jpg\"/>"
            ],
            "text/plain": [
              "<IPython.core.display.Image object>"
            ]
          },
          "metadata": {}
        },
        {
          "output_type": "stream",
          "name": "stdout",
          "text": [
            "This is a rectangular doormat featuring a playful design that caters to pickleball enthusiasts. The mat has a natural coir fiber construction, known for its durability and excellent scraping properties to remove dirt and debris from shoes. The background color is the natural brown of coir, and it features black text that reads \"it's a good day to play PICKLEBALL,\" with the word \"PICKLEBALL\" in bold, capital letters for emphasis. Below the text, there is a graphic of two crossed pickleball paddles in black.\n",
            "\n",
            "The doormat measures 16x24 inches, making it a suitable size for placement in front of a standard doorway. It is described as absorbent and non-slip, which suggests it has a backing material that prevents it from sliding around on the floor, enhancing safety. It is versatile enough to be used as a floor mat in a bathroom or other areas of a home where a small, absorbent mat is needed. The design adds a welcoming and personalized touch to any entryway, especially for those who have a fondness for pickleball.\n",
            "--------------------------\n",
            "\n",
            "JOIN IRON Foldable TV Trays for Eating Set of 4 wi... - https://www.amazon.com/dp/B0CG1N9QRC :\n",
            "\n"
          ]
        },
        {
          "output_type": "display_data",
          "data": {
            "text/html": [
              "<img src=\"https://m.media-amazon.com/images/I/41p4d4VJnNL._SS522_.jpg\"/>"
            ],
            "text/plain": [
              "<IPython.core.display.Image object>"
            ]
          },
          "metadata": {}
        },
        {
          "output_type": "stream",
          "name": "stdout",
          "text": [
            "This image showcases a set of four foldable TV trays with a stand, designed for eating or as snack tray tables. The tables are presented in a sleek grey finish, which gives them a modern and versatile look that can easily blend with various interior decor styles. Each tray features a rectangular tabletop with a wood grain texture, supported by a sturdy iron frame with an X-shaped base that allows for easy folding and storage. The stand included in the set provides a convenient way to organize and store the trays when not in use, making them an ideal solution for small spaces where versatility and efficiency are key. The overall design is functional and space-saving, perfect for casual dining, working on a laptop, or as additional surface space for entertaining guests.\n",
            "--------------------------\n",
            "\n"
          ]
        }
      ]
    }
  ]
}