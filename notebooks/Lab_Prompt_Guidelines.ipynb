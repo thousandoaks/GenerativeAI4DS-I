{
  "nbformat": 4,
  "nbformat_minor": 0,
  "metadata": {
    "colab": {
      "provenance": [],
      "authorship_tag": "ABX9TyNQhtiz8193J16BabdlGL0u"
    },
    "kernelspec": {
      "name": "python3",
      "display_name": "Python 3"
    },
    "language_info": {
      "name": "python"
    }
  },
  "cells": [
    {
      "cell_type": "markdown",
      "source": [
        "# GenerativeAI4DS-I\n",
        "## Lab. Promp Engineering Guidelines\n",
        "\n",
        "\n",
        "##  What I hope you'll get out of this lab\n",
        "* The feeling that you'll \"know where to start\" when you have to consume OpenAI services.\n",
        "* Follow OpenAI's best practices on how to conduct prompt engineering."
      ],
      "metadata": {
        "id": "5GqZx_B3b9bC"
      }
    },
    {
      "cell_type": "code",
      "execution_count": 2,
      "metadata": {
        "colab": {
          "base_uri": "https://localhost:8080/"
        },
        "id": "PuQVrxXub76-",
        "outputId": "858cbd56-13e2-4bbc-f46a-decbf87fa713"
      },
      "outputs": [
        {
          "output_type": "stream",
          "name": "stdout",
          "text": [
            "Collecting openai\n",
            "  Downloading openai-1.30.2-py3-none-any.whl (320 kB)\n",
            "\u001b[2K     \u001b[90m━━━━━━━━━━━━━━━━━━━━━━━━━━━━━━━━━━━━━━━━\u001b[0m \u001b[32m320.7/320.7 kB\u001b[0m \u001b[31m5.4 MB/s\u001b[0m eta \u001b[36m0:00:00\u001b[0m\n",
            "\u001b[?25hRequirement already satisfied: anyio<5,>=3.5.0 in /usr/local/lib/python3.10/dist-packages (from openai) (3.7.1)\n",
            "Requirement already satisfied: distro<2,>=1.7.0 in /usr/lib/python3/dist-packages (from openai) (1.7.0)\n",
            "Collecting httpx<1,>=0.23.0 (from openai)\n",
            "  Downloading httpx-0.27.0-py3-none-any.whl (75 kB)\n",
            "\u001b[2K     \u001b[90m━━━━━━━━━━━━━━━━━━━━━━━━━━━━━━━━━━━━━━━━\u001b[0m \u001b[32m75.6/75.6 kB\u001b[0m \u001b[31m8.0 MB/s\u001b[0m eta \u001b[36m0:00:00\u001b[0m\n",
            "\u001b[?25hRequirement already satisfied: pydantic<3,>=1.9.0 in /usr/local/lib/python3.10/dist-packages (from openai) (2.7.1)\n",
            "Requirement already satisfied: sniffio in /usr/local/lib/python3.10/dist-packages (from openai) (1.3.1)\n",
            "Requirement already satisfied: tqdm>4 in /usr/local/lib/python3.10/dist-packages (from openai) (4.66.4)\n",
            "Requirement already satisfied: typing-extensions<5,>=4.7 in /usr/local/lib/python3.10/dist-packages (from openai) (4.11.0)\n",
            "Requirement already satisfied: idna>=2.8 in /usr/local/lib/python3.10/dist-packages (from anyio<5,>=3.5.0->openai) (3.7)\n",
            "Requirement already satisfied: exceptiongroup in /usr/local/lib/python3.10/dist-packages (from anyio<5,>=3.5.0->openai) (1.2.1)\n",
            "Requirement already satisfied: certifi in /usr/local/lib/python3.10/dist-packages (from httpx<1,>=0.23.0->openai) (2024.2.2)\n",
            "Collecting httpcore==1.* (from httpx<1,>=0.23.0->openai)\n",
            "  Downloading httpcore-1.0.5-py3-none-any.whl (77 kB)\n",
            "\u001b[2K     \u001b[90m━━━━━━━━━━━━━━━━━━━━━━━━━━━━━━━━━━━━━━━━\u001b[0m \u001b[32m77.9/77.9 kB\u001b[0m \u001b[31m8.5 MB/s\u001b[0m eta \u001b[36m0:00:00\u001b[0m\n",
            "\u001b[?25hCollecting h11<0.15,>=0.13 (from httpcore==1.*->httpx<1,>=0.23.0->openai)\n",
            "  Downloading h11-0.14.0-py3-none-any.whl (58 kB)\n",
            "\u001b[2K     \u001b[90m━━━━━━━━━━━━━━━━━━━━━━━━━━━━━━━━━━━━━━━━\u001b[0m \u001b[32m58.3/58.3 kB\u001b[0m \u001b[31m6.8 MB/s\u001b[0m eta \u001b[36m0:00:00\u001b[0m\n",
            "\u001b[?25hRequirement already satisfied: annotated-types>=0.4.0 in /usr/local/lib/python3.10/dist-packages (from pydantic<3,>=1.9.0->openai) (0.7.0)\n",
            "Requirement already satisfied: pydantic-core==2.18.2 in /usr/local/lib/python3.10/dist-packages (from pydantic<3,>=1.9.0->openai) (2.18.2)\n",
            "Installing collected packages: h11, httpcore, httpx, openai\n",
            "Successfully installed h11-0.14.0 httpcore-1.0.5 httpx-0.27.0 openai-1.30.2\n"
          ]
        }
      ],
      "source": [
        "!pip install openai"
      ]
    },
    {
      "cell_type": "code",
      "source": [
        "from openai import OpenAI\n",
        "import os"
      ],
      "metadata": {
        "id": "0w4qEKFscivj"
      },
      "execution_count": 3,
      "outputs": []
    },
    {
      "cell_type": "code",
      "source": [],
      "metadata": {
        "id": "xDkWjQe_citM"
      },
      "execution_count": 3,
      "outputs": []
    },
    {
      "cell_type": "markdown",
      "source": [
        "# 1. You have to get your [OpenAI API Key](https://platform.openai.com/account/api-keys)"
      ],
      "metadata": {
        "id": "uMzVGXt3clqt"
      }
    },
    {
      "cell_type": "code",
      "source": [
        "# Used by the agent in this tutorial\n",
        "os.environ[\"OPENAI_API_KEY\"] = \"YOU-NEED-YOUR-OWN-OPENAI-KEY\""
      ],
      "metadata": {
        "id": "qtCNvQ9PciqF"
      },
      "execution_count": 4,
      "outputs": []
    },
    {
      "cell_type": "code",
      "source": [
        "MODEL=\"gpt-4o\"\n",
        "\n",
        "client = OpenAI(\n",
        "  api_key=os.environ['OPENAI_API_KEY'],  # this is also the default, it can be omitted\n",
        ")"
      ],
      "metadata": {
        "id": "cSsMiXrudCD9"
      },
      "execution_count": 5,
      "outputs": []
    },
    {
      "cell_type": "code",
      "source": [
        "def get_completion(prompt, model=\"gpt-3.5-turbo\"):\n",
        "    messages = [{\"role\": \"user\", \"content\": prompt}]\n",
        "    response = client.chat.completions.create(\n",
        "        model=MODEL,\n",
        "        messages=messages,\n",
        "        temperature=0\n",
        "    )\n",
        "    return response.choices[0].message.content"
      ],
      "metadata": {
        "id": "7-YTaRw9dCBG"
      },
      "execution_count": 6,
      "outputs": []
    },
    {
      "cell_type": "markdown",
      "source": [
        "## Prompting Principles\n",
        "- **Principle 1: Write clear and specific instructions**\n",
        "- **Principle 2: Give the model time to “think”**\n",
        "\n"
      ],
      "metadata": {
        "id": "gBP1aB5tdRnA"
      }
    },
    {
      "cell_type": "markdown",
      "source": [
        "## Principle 1: Write clear and specific instructions\n",
        "\n",
        "### Tactic 1: Use delimiters to clearly indicate distinct parts of the input\n",
        "- Delimiters can be anything like: ```, \"\"\", < >, `<tag> </tag>`, `:`"
      ],
      "metadata": {
        "id": "SoutpbIDf2Cr"
      }
    },
    {
      "cell_type": "code",
      "source": [
        "text = f\"\"\"\n",
        "You should express what you want a model to do by providing instructions that are as clear and specific as you can possibly make them. \\\n",
        "This will guide the model towards the desired output, and reduce the chances of receiving irrelevant or incorrect responses. \\\n",
        "Don't confuse writing a clear prompt with writing a short prompt.\\\n",
        " In many cases, longer prompts provide more clarity and context for the model, which can lead to more detailed and relevant outputs.\"\"\"\n"
      ],
      "metadata": {
        "id": "nA2IB7k-dSgv"
      },
      "execution_count": 7,
      "outputs": []
    },
    {
      "cell_type": "code",
      "source": [
        "prompt = f\"\"\"\n",
        "Summarize the text delimited by triple backticks into a single sentence.\n",
        "```{text}```\n",
        "\"\"\""
      ],
      "metadata": {
        "id": "5g24kkoyduPD"
      },
      "execution_count": 8,
      "outputs": []
    },
    {
      "cell_type": "code",
      "source": [
        "response = get_completion(prompt)\n",
        "print(response)"
      ],
      "metadata": {
        "colab": {
          "base_uri": "https://localhost:8080/"
        },
        "id": "_pzPUb6EeNXt",
        "outputId": "b155099d-4005-4c68-b99f-529cbb15e032"
      },
      "execution_count": 9,
      "outputs": [
        {
          "output_type": "stream",
          "name": "stdout",
          "text": [
            "To achieve the desired output from a model, provide clear and specific instructions, as longer prompts often offer better clarity and context, reducing irrelevant or incorrect responses.\n"
          ]
        }
      ]
    },
    {
      "cell_type": "code",
      "source": [
        "text2 =f\"\"\" Hi there, my name is John Doe, I live in Pasadena, I love watersports and cycling\"\"\""
      ],
      "metadata": {
        "id": "crA9JqXQeXTq"
      },
      "execution_count": 10,
      "outputs": []
    },
    {
      "cell_type": "code",
      "source": [
        "prompt2 =f\"\"\"\" Translate the text delimited by triple backticks into Mandarin Chinese.\n",
        "```{text2}```\n",
        "\"\"\""
      ],
      "metadata": {
        "id": "W84YnaNqeiOJ"
      },
      "execution_count": 13,
      "outputs": []
    },
    {
      "cell_type": "code",
      "source": [
        "response = get_completion(prompt2)\n",
        "print(response)"
      ],
      "metadata": {
        "colab": {
          "base_uri": "https://localhost:8080/"
        },
        "id": "He35EVExewzJ",
        "outputId": "ccc3c032-f518-4279-d7fd-a9195839ab45"
      },
      "execution_count": 14,
      "outputs": [
        {
          "output_type": "stream",
          "name": "stdout",
          "text": [
            "你好，我叫约翰·多，我住在帕萨迪纳，我喜欢水上运动和骑自行车。\n"
          ]
        }
      ]
    },
    {
      "cell_type": "code",
      "source": [],
      "metadata": {
        "id": "of6Hp-n0ezXr"
      },
      "execution_count": null,
      "outputs": []
    },
    {
      "cell_type": "markdown",
      "source": [
        "### Tactic 2: Ask for a structured output\n",
        "- JSON, HTML"
      ],
      "metadata": {
        "id": "vVKRoY3Jf-lf"
      }
    },
    {
      "cell_type": "code",
      "source": [
        "prompt3 = f\"\"\"\n",
        "Generate a list of three science fiction book titles along \\\n",
        "with their authors and genres.\n",
        "Provide them in JSON format with the following keys:\n",
        "book_id, title, author, genre.\n",
        "\"\"\""
      ],
      "metadata": {
        "id": "3NT7s4rThBzV"
      },
      "execution_count": 20,
      "outputs": []
    },
    {
      "cell_type": "code",
      "source": [
        "response = get_completion(prompt3)\n",
        "print(response)"
      ],
      "metadata": {
        "colab": {
          "base_uri": "https://localhost:8080/"
        },
        "id": "GsE5gXfihHrH",
        "outputId": "8902f927-5c76-4665-9211-c52baa9e7ee8"
      },
      "execution_count": 21,
      "outputs": [
        {
          "output_type": "stream",
          "name": "stdout",
          "text": [
            "```json\n",
            "[\n",
            "    {\n",
            "        \"book_id\": 1,\n",
            "        \"title\": \"Galactic Odyssey\",\n",
            "        \"author\": \"Elara Voss\",\n",
            "        \"genre\": \"Space Opera\"\n",
            "    },\n",
            "    {\n",
            "        \"book_id\": 2,\n",
            "        \"title\": \"The Quantum Enigma\",\n",
            "        \"author\": \"Drake Mason\",\n",
            "        \"genre\": \"Hard Science Fiction\"\n",
            "    },\n",
            "    {\n",
            "        \"book_id\": 3,\n",
            "        \"title\": \"Echoes of the Future\",\n",
            "        \"author\": \"Luna Sinclair\",\n",
            "        \"genre\": \"Cyberpunk\"\n",
            "    }\n",
            "]\n",
            "```\n"
          ]
        }
      ]
    },
    {
      "cell_type": "markdown",
      "source": [
        "### Tactic 3: Ask the model to check whether conditions are satisfied"
      ],
      "metadata": {
        "id": "Zk2sOBQmhXmL"
      }
    },
    {
      "cell_type": "code",
      "source": [
        "text_3 = f\"\"\"\n",
        "Making a cup of tea is easy! First, you need to get some water boiling. While that's happening, grab a cup and put a tea bag in it. \\\n",
        "Once the water is hot enough, just pour it over the tea bag. \\\n",
        "Let it sit for a bit so the tea can steep. After a few minutes, take out the tea bag. \\\n",
        "If you like, you can add some sugar or milk to taste. And that's it! You've got yourself a delicious cup of tea to enjoy.\n",
        "\"\"\""
      ],
      "metadata": {
        "id": "qeVFXnX-hSIW"
      },
      "execution_count": 23,
      "outputs": []
    },
    {
      "cell_type": "code",
      "source": [
        "prompt3 = f\"\"\"\n",
        "You will be provided with text delimited by triple quotes.\n",
        "If it contains a sequence of instructions, \\\n",
        "re-write those instructions in the following format:\n",
        "\n",
        "Step 1 - ...\n",
        "Step 2 - …\n",
        "…\n",
        "Step N - …\n",
        "\n",
        "If the text does not contain a sequence of instructions, \\\n",
        "then simply write \\\"No steps provided.\\\"\n",
        "\n",
        "\\\"\\\"\\\"{text_3}\\\"\\\"\\\"\n",
        "\"\"\""
      ],
      "metadata": {
        "id": "e2P_qbdVho7j"
      },
      "execution_count": 24,
      "outputs": []
    },
    {
      "cell_type": "code",
      "source": [
        "response = get_completion(prompt3)\n",
        "print(\"Completion for the given text:\")\n",
        "print(response)"
      ],
      "metadata": {
        "colab": {
          "base_uri": "https://localhost:8080/"
        },
        "id": "3JhxhHdNhr5W",
        "outputId": "51fd9919-174f-432e-e101-7f8d69fcb5a7"
      },
      "execution_count": 26,
      "outputs": [
        {
          "output_type": "stream",
          "name": "stdout",
          "text": [
            "Completion for the given text:\n",
            "Step 1 - Get some water boiling.\n",
            "Step 2 - Grab a cup and put a tea bag in it.\n",
            "Step 3 - Once the water is hot enough, pour it over the tea bag.\n",
            "Step 4 - Let it sit for a bit so the tea can steep.\n",
            "Step 5 - After a few minutes, take out the tea bag.\n",
            "Step 6 - If you like, add some sugar or milk to taste.\n"
          ]
        }
      ]
    },
    {
      "cell_type": "code",
      "source": [
        "text_4 = f\"\"\"\n",
        "The sun is shining brightly today, and the birds are \\\n",
        "singing. It's a beautiful day to go for a \\\n",
        "walk in the park. The flowers are blooming, and the \\\n",
        "trees are swaying gently in the breeze. People \\\n",
        "are out and about, enjoying the lovely weather. \\\n",
        "Some are having picnics, while others are playing \\\n",
        "games or simply relaxing on the grass. It's a \\\n",
        "perfect day to spend time outdoors and appreciate the \\\n",
        "beauty of nature.\n",
        "\"\"\""
      ],
      "metadata": {
        "id": "OAPndWgihxnx"
      },
      "execution_count": 28,
      "outputs": []
    },
    {
      "cell_type": "code",
      "source": [
        "prompt4 = f\"\"\"\n",
        "You will be provided with text delimited by triple quotes.\n",
        "If it contains a sequence of instructions, \\\n",
        "re-write those instructions in the following format:\n",
        "\n",
        "Step 1 - ...\n",
        "Step 2 - …\n",
        "…\n",
        "Step N - …\n",
        "\n",
        "If the text does not contain a sequence of instructions, \\\n",
        "then simply write \\\"No steps provided.\\\"\n",
        "\n",
        "\\\"\\\"\\\"{text_4}\\\"\\\"\\\"\n",
        "\"\"\""
      ],
      "metadata": {
        "id": "CoDItbXeiKx7"
      },
      "execution_count": 29,
      "outputs": []
    },
    {
      "cell_type": "code",
      "source": [
        "response = get_completion(prompt)\n",
        "print(\"Completion for Text 4:\")\n",
        "print(response)"
      ],
      "metadata": {
        "colab": {
          "base_uri": "https://localhost:8080/"
        },
        "id": "3xMsmx6SiQ1N",
        "outputId": "ca8a079b-8caa-4e62-c788-87850b103997"
      },
      "execution_count": 30,
      "outputs": [
        {
          "output_type": "stream",
          "name": "stdout",
          "text": [
            "Completion for Text 4:\n",
            "```json\n",
            "[\n",
            "    {\n",
            "        \"book_id\": 1,\n",
            "        \"title\": \"The Whispering Shadows\",\n",
            "        \"author\": \"Elena Marlowe\",\n",
            "        \"genre\": \"Mystery\"\n",
            "    },\n",
            "    {\n",
            "        \"book_id\": 2,\n",
            "        \"title\": \"Galactic Odyssey: The Lost Star\",\n",
            "        \"author\": \"Jasper Orion\",\n",
            "        \"genre\": \"Science Fiction\"\n",
            "    },\n",
            "    {\n",
            "        \"book_id\": 3,\n",
            "        \"title\": \"Echoes of the Forgotten Realm\",\n",
            "        \"author\": \"Lydia Ravenscroft\",\n",
            "        \"genre\": \"Fantasy\"\n",
            "    }\n",
            "]\n",
            "```\n"
          ]
        }
      ]
    },
    {
      "cell_type": "markdown",
      "source": [
        "### Tactic 4: \"Few-shot\" prompting"
      ],
      "metadata": {
        "id": "0-ab5SeBkXpT"
      }
    },
    {
      "cell_type": "code",
      "source": [
        "prompt5 = f\"\"\"\n",
        "Your task is to answer in a consistent style.\n",
        "\n",
        "<child>: Teach me about patience.\n",
        "\n",
        "<grandparent>: The river that carves the deepest \\\n",
        "valley flows from a modest spring; the \\\n",
        "grandest symphony originates from a single note; \\\n",
        "the most intricate tapestry begins with a solitary thread.\n",
        "\n",
        "<child>: Teach me about resilience.\n",
        "\"\"\""
      ],
      "metadata": {
        "id": "80xGPIlokYtw"
      },
      "execution_count": 31,
      "outputs": []
    },
    {
      "cell_type": "code",
      "source": [
        "response = get_completion(prompt5)\n",
        "print(response)"
      ],
      "metadata": {
        "colab": {
          "base_uri": "https://localhost:8080/"
        },
        "id": "gX0vCZDTmSi6",
        "outputId": "65a10a98-27b6-443d-9092-ddea8424e411"
      },
      "execution_count": 32,
      "outputs": [
        {
          "output_type": "stream",
          "name": "stdout",
          "text": [
            "<grandparent>: The mighty oak stands tall and strong, \\ \n",
            "but it began as a tiny acorn, weathering storms \\ \n",
            "and seasons. The butterfly, so delicate and free, \\ \n",
            "emerges from a cocoon after a long struggle. \\ \n",
            "Resilience is the quiet strength that grows \\ \n",
            "within us, one challenge at a time.\n"
          ]
        }
      ]
    },
    {
      "cell_type": "markdown",
      "source": [
        "## Principle 2: Give the model time to “think”\n",
        "\n",
        "### Tactic 1: Specify the steps required to complete a task"
      ],
      "metadata": {
        "id": "3nnjtGlzn3Jl"
      }
    },
    {
      "cell_type": "code",
      "source": [
        "text5 = f\"\"\"\n",
        "In a charming village, siblings Jack and Jill set out on \\\n",
        "a quest to fetch water from a hilltop \\\n",
        "well. As they climbed, singing joyfully, misfortune \\\n",
        "struck—Jack tripped on a stone and tumbled \\\n",
        "down the hill, with Jill following suit. \\\n",
        "Though slightly battered, the pair returned home to \\\n",
        "comforting embraces. Despite the mishap, \\\n",
        "their adventurous spirits remained undimmed, and they \\\n",
        "continued exploring with delight.\n",
        "\"\"\""
      ],
      "metadata": {
        "id": "UpR-EzCrn-sa"
      },
      "execution_count": 33,
      "outputs": []
    },
    {
      "cell_type": "code",
      "source": [
        "# example 1\n",
        "prompt_5 = f\"\"\"\n",
        "Perform the following actions:\n",
        "1 - Summarize the following text delimited by triple \\\n",
        "backticks with 1 sentence.\n",
        "2 - Translate the summary into French.\n",
        "3 - List each name in the French summary.\n",
        "4 - Output a json object that contains the following \\\n",
        "keys: french_summary, num_names.\n",
        "\n",
        "Separate your answers with line breaks.\n",
        "\n",
        "Text:\n",
        "```{text5}```\n",
        "\"\"\""
      ],
      "metadata": {
        "id": "OWF15cVaoOSE"
      },
      "execution_count": 34,
      "outputs": []
    },
    {
      "cell_type": "code",
      "source": [
        "response = get_completion(prompt_5)\n",
        "print(\"Completion for prompt 5:\")\n",
        "print(response)"
      ],
      "metadata": {
        "colab": {
          "base_uri": "https://localhost:8080/"
        },
        "id": "Kf96iZdNogsJ",
        "outputId": "826ff805-bf20-4af2-9318-2023a352d285"
      },
      "execution_count": 36,
      "outputs": [
        {
          "output_type": "stream",
          "name": "stdout",
          "text": [
            "Completion for prompt 5:\n",
            "1 - Siblings Jack and Jill went on a quest to fetch water from a hilltop well, but after Jack tripped and they both tumbled down, they returned home slightly battered but still adventurous.\n",
            "\n",
            "2 - Les frères et sœurs Jack et Jill sont partis en quête pour chercher de l'eau à un puits au sommet d'une colline, mais après que Jack ait trébuché et qu'ils soient tous deux tombés, ils sont rentrés chez eux légèrement meurtris mais toujours aventureux.\n",
            "\n",
            "3 - Jack, Jill\n",
            "\n",
            "4 - \n",
            "```json\n",
            "{\n",
            "  \"french_summary\": \"Les frères et sœurs Jack et Jill sont partis en quête pour chercher de l'eau à un puits au sommet d'une colline, mais après que Jack ait trébuché et qu'ils soient tous deux tombés, ils sont rentrés chez eux légèrement meurtris mais toujours aventureux.\",\n",
            "  \"num_names\": 2\n",
            "}\n",
            "```\n"
          ]
        }
      ]
    },
    {
      "cell_type": "markdown",
      "source": [
        "#### Ask for output in a specified format"
      ],
      "metadata": {
        "id": "2T3WaVdvqZ70"
      }
    },
    {
      "cell_type": "code",
      "source": [
        "prompt_6 = f\"\"\"\n",
        "Your task is to perform the following actions:\n",
        "1 - Summarize the following text delimited by\n",
        "  <> with 1 sentence.\n",
        "2 - Translate the summary into French.\n",
        "3 - List each name in the French summary.\n",
        "4 - Output a json object that contains the\n",
        "  following keys: french_summary, num_names.\n",
        "\n",
        "Use the following format:\n",
        "Text: <text to summarize>\n",
        "Summary: <summary>\n",
        "Translation: <summary translation>\n",
        "Names: <list of names in summary>\n",
        "Output JSON: <json with summary and num_names>\n",
        "\n",
        "Text: <{text5}>\n",
        "\"\"\""
      ],
      "metadata": {
        "id": "vEof_pOvojCE"
      },
      "execution_count": 39,
      "outputs": []
    },
    {
      "cell_type": "code",
      "source": [
        "response = get_completion(prompt_6)\n",
        "print(\"\\nCompletion for prompt 6:\")\n",
        "print(response)"
      ],
      "metadata": {
        "colab": {
          "base_uri": "https://localhost:8080/"
        },
        "id": "2kuZFxPPpJWx",
        "outputId": "f96baccc-acca-475a-c2c7-5e36dd2d8e5e"
      },
      "execution_count": 40,
      "outputs": [
        {
          "output_type": "stream",
          "name": "stdout",
          "text": [
            "\n",
            "Completion for prompt 6:\n",
            "Summary: In a charming village, siblings Jack and Jill set out to fetch water but tumbled down a hill, returning home slightly battered but still adventurous.\n",
            "\n",
            "Translation: Dans un charmant village, les frères et sœurs Jack et Jill sont partis chercher de l'eau mais ont dévalé une colline, rentrant chez eux légèrement meurtris mais toujours aventureux.\n",
            "\n",
            "Names: [Jack, Jill]\n",
            "\n",
            "Output JSON: \n",
            "{\n",
            "  \"french_summary\": \"Dans un charmant village, les frères et sœurs Jack et Jill sont partis chercher de l'eau mais ont dévalé une colline, rentrant chez eux légèrement meurtris mais toujours aventureux.\",\n",
            "  \"num_names\": 2\n",
            "}\n"
          ]
        }
      ]
    },
    {
      "cell_type": "markdown",
      "source": [
        "### Tactic 2: Instruct the model to work out its own solution before rushing to a conclusion"
      ],
      "metadata": {
        "id": "FOOLBK3IrUuc"
      }
    },
    {
      "cell_type": "code",
      "source": [
        "prompt7 = f\"\"\"\n",
        "Your task is to determine if the student's solution \\\n",
        "is correct or not.\n",
        "To solve the problem do the following:\n",
        "- First, work out your own solution to the problem including the final total.\n",
        "- Then compare your solution to the student's solution \\\n",
        "and evaluate if the student's solution is correct or not.\n",
        "Don't decide if the student's solution is correct until\n",
        "you have done the problem yourself.\n",
        "\n",
        "Use the following format:\n",
        "Question:\n",
        "```\n",
        "question here\n",
        "```\n",
        "Student's solution:\n",
        "```\n",
        "student's solution here\n",
        "```\n",
        "Actual solution:\n",
        "```\n",
        "steps to work out the solution and your solution here\n",
        "```\n",
        "Is the student's solution the same as actual solution \\\n",
        "just calculated:\n",
        "```\n",
        "yes or no\n",
        "```\n",
        "Student grade:\n",
        "```\n",
        "correct or incorrect\n",
        "```\n",
        "\n",
        "Question:\n",
        "```\n",
        "I'm building a solar power installation and I need help \\\n",
        "working out the financials.\n",
        "- Land costs $100 / square foot\n",
        "- I can buy solar panels for $250 / square foot\n",
        "- I negotiated a contract for maintenance that will cost \\\n",
        "me a flat $100k per year, and an additional $10 / square \\\n",
        "foot\n",
        "What is the total cost for the first year of operations \\\n",
        "as a function of the number of square feet.\n",
        "```\n",
        "Student's solution:\n",
        "```\n",
        "Let x be the size of the installation in square feet.\n",
        "Costs:\n",
        "1. Land cost: 100x\n",
        "2. Solar panel cost: 250x\n",
        "3. Maintenance cost: 100,000 + 100x\n",
        "Total cost: 100x + 250x + 100,000 + 100x = 450x + 100,000\n",
        "```\n",
        "Actual solution:\n",
        "\"\"\""
      ],
      "metadata": {
        "id": "3aVK6JhPq7yN"
      },
      "execution_count": 46,
      "outputs": []
    },
    {
      "cell_type": "code",
      "source": [
        "response = get_completion(prompt7)\n",
        "print(response)"
      ],
      "metadata": {
        "colab": {
          "base_uri": "https://localhost:8080/"
        },
        "id": "oe3C5rK4q7v4",
        "outputId": "5ce9b5ac-14a1-44b7-b64a-e8637e672849"
      },
      "execution_count": 47,
      "outputs": [
        {
          "output_type": "stream",
          "name": "stdout",
          "text": [
            "```\n",
            "Let x be the size of the installation in square feet.\n",
            "Costs:\n",
            "1. Land cost: 100x\n",
            "2. Solar panel cost: 250x\n",
            "3. Maintenance cost: 100,000 + 10x\n",
            "Total cost: 100x + 250x + 100,000 + 10x = 360x + 100,000\n",
            "```\n",
            "Is the student's solution the same as actual solution just calculated:\n",
            "```\n",
            "no\n",
            "```\n",
            "Student grade:\n",
            "```\n",
            "incorrect\n",
            "```\n"
          ]
        }
      ]
    },
    {
      "cell_type": "code",
      "source": [],
      "metadata": {
        "id": "GlD4NtP_q7th"
      },
      "execution_count": null,
      "outputs": []
    },
    {
      "cell_type": "code",
      "source": [],
      "metadata": {
        "id": "rnVBxo1kq7q7"
      },
      "execution_count": null,
      "outputs": []
    },
    {
      "cell_type": "code",
      "source": [],
      "metadata": {
        "id": "xdW0p_K0q7ok"
      },
      "execution_count": null,
      "outputs": []
    },
    {
      "cell_type": "code",
      "source": [],
      "metadata": {
        "id": "WsWKEOVcq7l_"
      },
      "execution_count": null,
      "outputs": []
    },
    {
      "cell_type": "code",
      "source": [],
      "metadata": {
        "id": "P11robEBq7jY"
      },
      "execution_count": null,
      "outputs": []
    },
    {
      "cell_type": "markdown",
      "source": [
        "### Tactic 2: Specify the steps required to complete a task"
      ],
      "metadata": {
        "id": "-6dOC-LMpciI"
      }
    },
    {
      "cell_type": "code",
      "source": [
        "text6 = f\"\"\"\n",
        "In a charming village, siblings Jack and Jill set out on \\\n",
        "a quest to fetch water from a hilltop \\\n",
        "well. As they climbed, singing joyfully, misfortune \\\n",
        "struck—Jack tripped on a stone and tumbled \\\n",
        "down the hill, with Jill following suit. \\\n",
        "Though slightly battered, the pair returned home to \\\n",
        "comforting embraces. Despite the mishap, \\\n",
        "their adventurous spirits remained undimmed, and they \\\n",
        "continued exploring with delight.\n",
        "\"\"\""
      ],
      "metadata": {
        "id": "s_tH1JyJpLOi"
      },
      "execution_count": 42,
      "outputs": []
    },
    {
      "cell_type": "code",
      "source": [
        "# example 1\n",
        "prompt_7 = f\"\"\"\n",
        "Perform the following actions:\n",
        "1 - Summarize the following text delimited by triple \\\n",
        "backticks with 1 sentence.\n",
        "2 - Translate the summary into French.\n",
        "3 - List each name in the French summary.\n",
        "4 - Output a json object that contains the following \\\n",
        "keys: french_summary, num_names.\n",
        "\n",
        "Separate your answers with line breaks.\n",
        "\n",
        "Text:\n",
        "```{text6}```\n",
        "\"\"\""
      ],
      "metadata": {
        "id": "QDNahKdDpkDz"
      },
      "execution_count": 43,
      "outputs": []
    },
    {
      "cell_type": "code",
      "source": [],
      "metadata": {
        "id": "ZqBeEeTHpwN7"
      },
      "execution_count": null,
      "outputs": []
    }
  ]
}