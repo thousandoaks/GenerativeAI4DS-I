{
  "nbformat": 4,
  "nbformat_minor": 0,
  "metadata": {
    "colab": {
      "provenance": [],
      "authorship_tag": "ABX9TyN3MaY2UpAOhhcVjXAuNDmV"
    },
    "kernelspec": {
      "name": "python3",
      "display_name": "Python 3"
    },
    "language_info": {
      "name": "python"
    }
  },
  "cells": [
    {
      "cell_type": "markdown",
      "source": [
        "# GenerativeAI4DS-I\n",
        "## Lab. Math Tutor Assistant\n",
        "\n",
        "\n",
        "##  What I hope you'll get out of this lab\n",
        "* The feeling that you'll \"know where to start\" when you have to consume OpenAI services.\n",
        "* Follow OpenAI's best practices on how to develop assistants"
      ],
      "metadata": {
        "id": "rigxDZTATdb8"
      }
    },
    {
      "cell_type": "code",
      "execution_count": 1,
      "metadata": {
        "colab": {
          "base_uri": "https://localhost:8080/"
        },
        "id": "WBJEYnwHTb11",
        "outputId": "4b294166-68be-47bb-89ec-dc6a4f161ebe"
      },
      "outputs": [
        {
          "output_type": "stream",
          "name": "stdout",
          "text": [
            "Requirement already satisfied: openai in /usr/local/lib/python3.10/dist-packages (1.30.3)\n",
            "Requirement already satisfied: anyio<5,>=3.5.0 in /usr/local/lib/python3.10/dist-packages (from openai) (3.7.1)\n",
            "Requirement already satisfied: distro<2,>=1.7.0 in /usr/lib/python3/dist-packages (from openai) (1.7.0)\n",
            "Requirement already satisfied: httpx<1,>=0.23.0 in /usr/local/lib/python3.10/dist-packages (from openai) (0.27.0)\n",
            "Requirement already satisfied: pydantic<3,>=1.9.0 in /usr/local/lib/python3.10/dist-packages (from openai) (2.7.1)\n",
            "Requirement already satisfied: sniffio in /usr/local/lib/python3.10/dist-packages (from openai) (1.3.1)\n",
            "Requirement already satisfied: tqdm>4 in /usr/local/lib/python3.10/dist-packages (from openai) (4.66.4)\n",
            "Requirement already satisfied: typing-extensions<5,>=4.7 in /usr/local/lib/python3.10/dist-packages (from openai) (4.11.0)\n",
            "Requirement already satisfied: idna>=2.8 in /usr/local/lib/python3.10/dist-packages (from anyio<5,>=3.5.0->openai) (3.7)\n",
            "Requirement already satisfied: exceptiongroup in /usr/local/lib/python3.10/dist-packages (from anyio<5,>=3.5.0->openai) (1.2.1)\n",
            "Requirement already satisfied: certifi in /usr/local/lib/python3.10/dist-packages (from httpx<1,>=0.23.0->openai) (2024.2.2)\n",
            "Requirement already satisfied: httpcore==1.* in /usr/local/lib/python3.10/dist-packages (from httpx<1,>=0.23.0->openai) (1.0.5)\n",
            "Requirement already satisfied: h11<0.15,>=0.13 in /usr/local/lib/python3.10/dist-packages (from httpcore==1.*->httpx<1,>=0.23.0->openai) (0.14.0)\n",
            "Requirement already satisfied: annotated-types>=0.4.0 in /usr/local/lib/python3.10/dist-packages (from pydantic<3,>=1.9.0->openai) (0.7.0)\n",
            "Requirement already satisfied: pydantic-core==2.18.2 in /usr/local/lib/python3.10/dist-packages (from pydantic<3,>=1.9.0->openai) (2.18.2)\n"
          ]
        }
      ],
      "source": [
        "!pip install openai"
      ]
    },
    {
      "cell_type": "code",
      "source": [
        "from openai import OpenAI\n",
        "import os\n",
        "import json\n",
        "from IPython.core.display import display, HTML"
      ],
      "metadata": {
        "id": "-9FVxvOLUBJn"
      },
      "execution_count": 2,
      "outputs": []
    },
    {
      "cell_type": "code",
      "source": [
        "def show_json(obj):\n",
        "    display(json.loads(obj.model_dump_json()))"
      ],
      "metadata": {
        "id": "yjYBLPRuXrRN"
      },
      "execution_count": 3,
      "outputs": []
    },
    {
      "cell_type": "markdown",
      "source": [
        "# 1. You have to get your [OpenAI API Key](https://platform.openai.com/account/api-keys)"
      ],
      "metadata": {
        "id": "ZERbLRu8UEOa"
      }
    },
    {
      "cell_type": "code",
      "source": [
        "# Used by the agent in this tutorial\n",
        "os.environ[\"OPENAI_API_KEY\"] = \"YOU-NEED-YOUR-OWN-KEY\""
      ],
      "metadata": {
        "id": "S9mx01r0UBHi"
      },
      "execution_count": 4,
      "outputs": []
    },
    {
      "cell_type": "code",
      "source": [
        "client = OpenAI(\n",
        "  api_key=os.environ['OPENAI_API_KEY'],  # this is also the default, it can be omitted\n",
        ")"
      ],
      "metadata": {
        "id": "2TlZc7DGXJyG"
      },
      "execution_count": 5,
      "outputs": []
    },
    {
      "cell_type": "markdown",
      "source": [
        "# 2. We consume an existing Math Tutor Assistant\n",
        "An Assistant represents an entity that can be configured to respond to a user's messages using several parameters like model, instructions, and tools.\n",
        "\n",
        "\n",
        "\n"
      ],
      "metadata": {
        "id": "5cmH04nRXM8f"
      }
    },
    {
      "cell_type": "markdown",
      "source": [
        "### 2.1. We instantiate an existing assistant"
      ],
      "metadata": {
        "id": "Ng7_g6qcYKA6"
      }
    },
    {
      "cell_type": "code",
      "source": [
        "assistant = client.beta.assistants.retrieve(\"asst_l2lH2H37uZKZHIDcMUY92EwI\")\n",
        "show_json(assistant)"
      ],
      "metadata": {
        "colab": {
          "base_uri": "https://localhost:8080/",
          "height": 243
        },
        "id": "mVz4bEVqXJtb",
        "outputId": "5eb872a0-aafd-453a-a572-0092bb9b1ed1"
      },
      "execution_count": 6,
      "outputs": [
        {
          "output_type": "display_data",
          "data": {
            "text/plain": [
              "{'id': 'asst_l2lH2H37uZKZHIDcMUY92EwI',\n",
              " 'created_at': 1706000179,\n",
              " 'description': None,\n",
              " 'instructions': 'You are a personal math tutor. Answer questions to students in high school',\n",
              " 'metadata': {},\n",
              " 'model': 'gpt-3.5-turbo-16k',\n",
              " 'name': 'Math Tutor (High School)',\n",
              " 'object': 'assistant',\n",
              " 'tools': [],\n",
              " 'response_format': 'auto',\n",
              " 'temperature': 1.0,\n",
              " 'tool_resources': {'code_interpreter': None, 'file_search': None},\n",
              " 'top_p': 1.0}"
            ]
          },
          "metadata": {}
        }
      ]
    },
    {
      "cell_type": "markdown",
      "source": [
        "### 2.2. We create a thread\n",
        "\n",
        "A Thread represents a conversation between a user and one or many Assistants. You can create a Thread when a user (or your AI application) starts a conversation with your Assistant."
      ],
      "metadata": {
        "id": "JWIZ-swjYP50"
      }
    },
    {
      "cell_type": "code",
      "source": [
        "thread = client.beta.threads.create()"
      ],
      "metadata": {
        "id": "Ws8cOadWXJq1"
      },
      "execution_count": 7,
      "outputs": []
    },
    {
      "cell_type": "code",
      "source": [
        "thread"
      ],
      "metadata": {
        "colab": {
          "base_uri": "https://localhost:8080/"
        },
        "id": "guNcsdZXbW2H",
        "outputId": "6fb41a4e-7abc-48e4-e408-96f38651d936"
      },
      "execution_count": 13,
      "outputs": [
        {
          "output_type": "execute_result",
          "data": {
            "text/plain": [
              "Thread(id='thread_tCiCFi1B1WWrzYfYg33jbDTm', created_at=1716819424, metadata={}, object='thread', tool_resources=ToolResources(code_interpreter=None, file_search=None))"
            ]
          },
          "metadata": {},
          "execution_count": 13
        }
      ]
    },
    {
      "cell_type": "markdown",
      "source": [
        "### 2.3 We add a message to the thread\n",
        "\n",
        "The contents of the messages your users or applications create are added as Message objects to the Thread. Messages can contain both text and files. There is no limit to the number of Messages you can add to Threads — we smartly truncate any context that does not fit into the model's context window."
      ],
      "metadata": {
        "id": "Yw6zl48RYcY_"
      }
    },
    {
      "cell_type": "code",
      "source": [
        "message = client.beta.threads.messages.create(\n",
        "  thread_id=thread.id,\n",
        "  role=\"user\",\n",
        "  content=\"I need to solve the equation `3x + 11 = 14`. Can you help me?\"\n",
        ")\n",
        "\n",
        "show_json(message)"
      ],
      "metadata": {
        "colab": {
          "base_uri": "https://localhost:8080/",
          "height": 295
        },
        "id": "6GMr3aT0XJoe",
        "outputId": "a0449891-81a6-4429-a272-8371785b9e2f"
      },
      "execution_count": 8,
      "outputs": [
        {
          "output_type": "display_data",
          "data": {
            "text/plain": [
              "{'id': 'msg_xhzJ7Atu38lngaUM0gaQDqr6',\n",
              " 'assistant_id': None,\n",
              " 'attachments': [],\n",
              " 'completed_at': None,\n",
              " 'content': [{'text': {'annotations': [],\n",
              "    'value': 'I need to solve the equation `3x + 11 = 14`. Can you help me?'},\n",
              "   'type': 'text'}],\n",
              " 'created_at': 1716819424,\n",
              " 'incomplete_at': None,\n",
              " 'incomplete_details': None,\n",
              " 'metadata': {},\n",
              " 'object': 'thread.message',\n",
              " 'role': 'user',\n",
              " 'run_id': None,\n",
              " 'status': None,\n",
              " 'thread_id': 'thread_tCiCFi1B1WWrzYfYg33jbDTm'}"
            ]
          },
          "metadata": {}
        }
      ]
    },
    {
      "cell_type": "markdown",
      "source": [
        "### 2.4. We create a run\n",
        "\n",
        "Once all the user Messages have been added to the Thread, you can Run the Thread with any Assistant. Creating a Run uses the model and tools associated with the Assistant to generate a response. These responses are added to the Thread as assistant Messages."
      ],
      "metadata": {
        "id": "BFQiMb6-YrKB"
      }
    },
    {
      "cell_type": "code",
      "source": [
        "run = client.beta.threads.runs.create_and_poll(\n",
        "  thread_id=thread.id,\n",
        "  assistant_id=assistant.id,\n",
        "  instructions=\"Please address the user as Jane Doe. The user has a premium account.\"\n",
        ")\n",
        "show_json(run)"
      ],
      "metadata": {
        "colab": {
          "base_uri": "https://localhost:8080/",
          "height": 486
        },
        "id": "i2IRkPrEXJl3",
        "outputId": "7463b305-08a3-4a9e-cd89-44d6e7c4611c"
      },
      "execution_count": 9,
      "outputs": [
        {
          "output_type": "display_data",
          "data": {
            "text/plain": [
              "{'id': 'run_zr0eOfg6a5PkTPGs7tt8k0xD',\n",
              " 'assistant_id': 'asst_l2lH2H37uZKZHIDcMUY92EwI',\n",
              " 'cancelled_at': None,\n",
              " 'completed_at': 1716819429,\n",
              " 'created_at': 1716819425,\n",
              " 'expires_at': None,\n",
              " 'failed_at': None,\n",
              " 'incomplete_details': None,\n",
              " 'instructions': 'Please address the user as Jane Doe. The user has a premium account.',\n",
              " 'last_error': None,\n",
              " 'max_completion_tokens': None,\n",
              " 'max_prompt_tokens': None,\n",
              " 'metadata': {},\n",
              " 'model': 'gpt-3.5-turbo-16k',\n",
              " 'object': 'thread.run',\n",
              " 'required_action': None,\n",
              " 'response_format': 'auto',\n",
              " 'started_at': 1716819425,\n",
              " 'status': 'completed',\n",
              " 'thread_id': 'thread_tCiCFi1B1WWrzYfYg33jbDTm',\n",
              " 'tool_choice': 'auto',\n",
              " 'tools': [],\n",
              " 'truncation_strategy': {'type': 'auto', 'last_messages': None},\n",
              " 'usage': {'completion_tokens': 164, 'prompt_tokens': 46, 'total_tokens': 210},\n",
              " 'temperature': 1.0,\n",
              " 'top_p': 1.0,\n",
              " 'tool_resources': {}}"
            ]
          },
          "metadata": {}
        }
      ]
    },
    {
      "cell_type": "markdown",
      "source": [
        "### 2.5 We observe the response\n",
        "Runs are asynchronous, which means you'll want to monitor their status by polling the Run object until a terminal status is reached. For convenience, the 'create and poll' SDK helpers assist both in creating the run and then polling for its completion."
      ],
      "metadata": {
        "id": "R4ZjQRayalEL"
      }
    },
    {
      "cell_type": "code",
      "source": [
        "if run.status == 'completed':\n",
        "  responses = client.beta.threads.messages.list(\n",
        "    thread_id=thread.id\n",
        "  )\n",
        "  print(responses)\n",
        "else:\n",
        "  print(run.status)"
      ],
      "metadata": {
        "colab": {
          "base_uri": "https://localhost:8080/"
        },
        "id": "2D4da3lpXJjh",
        "outputId": "28d26703-0bc8-4a81-9d17-ea0a6a12bf82"
      },
      "execution_count": 10,
      "outputs": [
        {
          "output_type": "stream",
          "name": "stdout",
          "text": [
            "SyncCursorPage[Message](data=[Message(id='msg_tUWsw2gwbXa3JlTTiGW2QDwI', assistant_id='asst_l2lH2H37uZKZHIDcMUY92EwI', attachments=[], completed_at=None, content=[TextContentBlock(text=Text(annotations=[], value=\"Of course, Jane Doe! I'd be happy to help you solve the equation `3x + 11 = 14`. The goal here is to isolate the variable `x` on one side of the equation. Let's go step by step:\\n\\n1. Subtract 11 from both sides of the equation:\\n   `3x + 11 - 11 = 14 - 11`\\n   Simplifying, we get:\\n   `3x = 3`\\n\\n2. Divide both sides of the equation by 3 to solve for `x`:\\n   `3x/3 = 3/3`\\n   This simplifies to:\\n   `x = 1`\\n\\nSo, the solution to the equation `3x + 11 = 14` is `x = 1`.\"), type='text')], created_at=1716819426, incomplete_at=None, incomplete_details=None, metadata={}, object='thread.message', role='assistant', run_id='run_zr0eOfg6a5PkTPGs7tt8k0xD', status=None, thread_id='thread_tCiCFi1B1WWrzYfYg33jbDTm'), Message(id='msg_xhzJ7Atu38lngaUM0gaQDqr6', assistant_id=None, attachments=[], completed_at=None, content=[TextContentBlock(text=Text(annotations=[], value='I need to solve the equation `3x + 11 = 14`. Can you help me?'), type='text')], created_at=1716819424, incomplete_at=None, incomplete_details=None, metadata={}, object='thread.message', role='user', run_id=None, status=None, thread_id='thread_tCiCFi1B1WWrzYfYg33jbDTm')], object='list', first_id='msg_tUWsw2gwbXa3JlTTiGW2QDwI', last_id='msg_xhzJ7Atu38lngaUM0gaQDqr6', has_more=False)\n"
          ]
        }
      ]
    },
    {
      "cell_type": "code",
      "source": [
        "show_json(responses.data[0].content[0])"
      ],
      "metadata": {
        "colab": {
          "base_uri": "https://localhost:8080/",
          "height": 104
        },
        "id": "r6FGj-8bXJg9",
        "outputId": "05a672ee-ff63-4417-e249-976e4402c4b8"
      },
      "execution_count": 11,
      "outputs": [
        {
          "output_type": "display_data",
          "data": {
            "text/plain": [
              "{'text': {'annotations': [],\n",
              "  'value': \"Of course, Jane Doe! I'd be happy to help you solve the equation `3x + 11 = 14`. The goal here is to isolate the variable `x` on one side of the equation. Let's go step by step:\\n\\n1. Subtract 11 from both sides of the equation:\\n   `3x + 11 - 11 = 14 - 11`\\n   Simplifying, we get:\\n   `3x = 3`\\n\\n2. Divide both sides of the equation by 3 to solve for `x`:\\n   `3x/3 = 3/3`\\n   This simplifies to:\\n   `x = 1`\\n\\nSo, the solution to the equation `3x + 11 = 14` is `x = 1`.\"},\n",
              " 'type': 'text'}"
            ]
          },
          "metadata": {}
        }
      ]
    },
    {
      "cell_type": "code",
      "source": [
        "display(HTML(responses.data[0].content[0].text.value))"
      ],
      "metadata": {
        "colab": {
          "base_uri": "https://localhost:8080/",
          "height": 52
        },
        "id": "Mlp5czi3XJel",
        "outputId": "bc2d75ce-1a8f-49fe-abb7-3514a3766abb"
      },
      "execution_count": 12,
      "outputs": [
        {
          "output_type": "display_data",
          "data": {
            "text/plain": [
              "<IPython.core.display.HTML object>"
            ],
            "text/html": [
              "Of course, Jane Doe! I'd be happy to help you solve the equation `3x + 11 = 14`. The goal here is to isolate the variable `x` on one side of the equation. Let's go step by step:\n",
              "\n",
              "1. Subtract 11 from both sides of the equation:\n",
              "   `3x + 11 - 11 = 14 - 11`\n",
              "   Simplifying, we get:\n",
              "   `3x = 3`\n",
              "\n",
              "2. Divide both sides of the equation by 3 to solve for `x`:\n",
              "   `3x/3 = 3/3`\n",
              "   This simplifies to:\n",
              "   `x = 1`\n",
              "\n",
              "So, the solution to the equation `3x + 11 = 14` is `x = 1`."
            ]
          },
          "metadata": {}
        }
      ]
    },
    {
      "cell_type": "code",
      "source": [],
      "metadata": {
        "id": "0ARc_x2nXJb-"
      },
      "execution_count": 12,
      "outputs": []
    },
    {
      "cell_type": "markdown",
      "source": [
        "### 2.6 We add more messages to the same thread as needed"
      ],
      "metadata": {
        "id": "p5kPFTtgbK35"
      }
    },
    {
      "cell_type": "code",
      "source": [
        "message2 = client.beta.threads.messages.create(\n",
        "  thread_id=thread.id,\n",
        "  role=\"user\",\n",
        "  content=\"I need to solve the equation `7x^2-3=0`. Can you help me?\"\n",
        ")\n",
        "\n",
        "show_json(message2)"
      ],
      "metadata": {
        "colab": {
          "base_uri": "https://localhost:8080/",
          "height": 295
        },
        "id": "1xzwZ-Y4XJZH",
        "outputId": "82d4952c-7d67-4bf8-853d-82e9e6a2adaa"
      },
      "execution_count": 14,
      "outputs": [
        {
          "output_type": "display_data",
          "data": {
            "text/plain": [
              "{'id': 'msg_Wos0xoS4gUdvibXN55CEGV54',\n",
              " 'assistant_id': None,\n",
              " 'attachments': [],\n",
              " 'completed_at': None,\n",
              " 'content': [{'text': {'annotations': [],\n",
              "    'value': 'I need to solve the equation `7x^2-3=0`. Can you help me?'},\n",
              "   'type': 'text'}],\n",
              " 'created_at': 1716819734,\n",
              " 'incomplete_at': None,\n",
              " 'incomplete_details': None,\n",
              " 'metadata': {},\n",
              " 'object': 'thread.message',\n",
              " 'role': 'user',\n",
              " 'run_id': None,\n",
              " 'status': None,\n",
              " 'thread_id': 'thread_tCiCFi1B1WWrzYfYg33jbDTm'}"
            ]
          },
          "metadata": {}
        }
      ]
    },
    {
      "cell_type": "code",
      "source": [
        "run = client.beta.threads.runs.create_and_poll(\n",
        "  thread_id=thread.id,\n",
        "  assistant_id=assistant.id,\n",
        "  instructions=\"Please address the user as Jane Doe. The user has a premium account.\"\n",
        ")\n",
        "show_json(run)"
      ],
      "metadata": {
        "colab": {
          "base_uri": "https://localhost:8080/",
          "height": 520
        },
        "id": "DBQ9CMtCbi6-",
        "outputId": "ac024d00-7e0e-407e-9941-f93158ef31cc"
      },
      "execution_count": 15,
      "outputs": [
        {
          "output_type": "display_data",
          "data": {
            "text/plain": [
              "{'id': 'run_OfuOZKubzx8Ajopx6C8pQiHU',\n",
              " 'assistant_id': 'asst_l2lH2H37uZKZHIDcMUY92EwI',\n",
              " 'cancelled_at': None,\n",
              " 'completed_at': 1716819792,\n",
              " 'created_at': 1716819787,\n",
              " 'expires_at': None,\n",
              " 'failed_at': None,\n",
              " 'incomplete_details': None,\n",
              " 'instructions': 'Please address the user as Jane Doe. The user has a premium account.',\n",
              " 'last_error': None,\n",
              " 'max_completion_tokens': None,\n",
              " 'max_prompt_tokens': None,\n",
              " 'metadata': {},\n",
              " 'model': 'gpt-3.5-turbo-16k',\n",
              " 'object': 'thread.run',\n",
              " 'required_action': None,\n",
              " 'response_format': 'auto',\n",
              " 'started_at': 1716819787,\n",
              " 'status': 'completed',\n",
              " 'thread_id': 'thread_tCiCFi1B1WWrzYfYg33jbDTm',\n",
              " 'tool_choice': 'auto',\n",
              " 'tools': [],\n",
              " 'truncation_strategy': {'type': 'auto', 'last_messages': None},\n",
              " 'usage': {'completion_tokens': 343,\n",
              "  'prompt_tokens': 237,\n",
              "  'total_tokens': 580},\n",
              " 'temperature': 1.0,\n",
              " 'top_p': 1.0,\n",
              " 'tool_resources': {}}"
            ]
          },
          "metadata": {}
        }
      ]
    },
    {
      "cell_type": "code",
      "source": [
        "if run.status == 'completed':\n",
        "  responses = client.beta.threads.messages.list(\n",
        "    thread_id=thread.id\n",
        "  )\n",
        "  print(responses)\n",
        "else:\n",
        "  print(run.status)"
      ],
      "metadata": {
        "colab": {
          "base_uri": "https://localhost:8080/"
        },
        "id": "uXxNmMmjbvrc",
        "outputId": "d2c4fd37-1da2-4f1d-94af-ce9ff0afe1de"
      },
      "execution_count": 16,
      "outputs": [
        {
          "output_type": "stream",
          "name": "stdout",
          "text": [
            "SyncCursorPage[Message](data=[Message(id='msg_3HWhE5j5r6Z8kSaPGLBlERmX', assistant_id='asst_l2lH2H37uZKZHIDcMUY92EwI', attachments=[], completed_at=None, content=[TextContentBlock(text=Text(annotations=[], value=\"Absolutely, Jane Doe! I can assist you in solving the equation `7x^2 - 3 = 0`. This is a quadratic equation, which can be solved using various methods, such as factoring, completing the square, or using the quadratic formula.\\n\\nIn this case, we will use the quadratic formula to find the value(s) of `x`. The quadratic formula states that for an equation in the form `ax^2 + bx + c = 0`, the solutions for `x` are given by:\\n\\n`x = (-b ± √(b^2 - 4ac)) / (2a)`\\n\\nNow let's apply the quadratic formula to our equation `7x^2 - 3 = 0`:\\n\\nIn this case:\\na = 7\\nb = 0 (no x-term)\\nc = -3\\n\\nPlugging these values into the quadratic formula, we get:\\n\\n`x = (-0 ± √(0^2 - 4 * 7 * -3)) / (2 * 7)`\\n\\nSimplifying further:\\n\\n`x = ±√(0 + 84) / 14`\\n\\n`x = ±√(84) / 14`\\n\\n`x = ±√(4 * 21) / 14`\\n\\n`x = ±(2√21) / 14`\\n\\nSimplifying the expression:\\n\\n`x = ±√21 / 7`\\n\\nTherefore, the solutions to the equation `7x^2 - 3 = 0` are `x = √21 / 7` and `x = -√21 / 7`.\"), type='text')], created_at=1716819788, incomplete_at=None, incomplete_details=None, metadata={}, object='thread.message', role='assistant', run_id='run_OfuOZKubzx8Ajopx6C8pQiHU', status=None, thread_id='thread_tCiCFi1B1WWrzYfYg33jbDTm'), Message(id='msg_Wos0xoS4gUdvibXN55CEGV54', assistant_id=None, attachments=[], completed_at=None, content=[TextContentBlock(text=Text(annotations=[], value='I need to solve the equation `7x^2-3=0`. Can you help me?'), type='text')], created_at=1716819734, incomplete_at=None, incomplete_details=None, metadata={}, object='thread.message', role='user', run_id=None, status=None, thread_id='thread_tCiCFi1B1WWrzYfYg33jbDTm'), Message(id='msg_tUWsw2gwbXa3JlTTiGW2QDwI', assistant_id='asst_l2lH2H37uZKZHIDcMUY92EwI', attachments=[], completed_at=None, content=[TextContentBlock(text=Text(annotations=[], value=\"Of course, Jane Doe! I'd be happy to help you solve the equation `3x + 11 = 14`. The goal here is to isolate the variable `x` on one side of the equation. Let's go step by step:\\n\\n1. Subtract 11 from both sides of the equation:\\n   `3x + 11 - 11 = 14 - 11`\\n   Simplifying, we get:\\n   `3x = 3`\\n\\n2. Divide both sides of the equation by 3 to solve for `x`:\\n   `3x/3 = 3/3`\\n   This simplifies to:\\n   `x = 1`\\n\\nSo, the solution to the equation `3x + 11 = 14` is `x = 1`.\"), type='text')], created_at=1716819426, incomplete_at=None, incomplete_details=None, metadata={}, object='thread.message', role='assistant', run_id='run_zr0eOfg6a5PkTPGs7tt8k0xD', status=None, thread_id='thread_tCiCFi1B1WWrzYfYg33jbDTm'), Message(id='msg_xhzJ7Atu38lngaUM0gaQDqr6', assistant_id=None, attachments=[], completed_at=None, content=[TextContentBlock(text=Text(annotations=[], value='I need to solve the equation `3x + 11 = 14`. Can you help me?'), type='text')], created_at=1716819424, incomplete_at=None, incomplete_details=None, metadata={}, object='thread.message', role='user', run_id=None, status=None, thread_id='thread_tCiCFi1B1WWrzYfYg33jbDTm')], object='list', first_id='msg_3HWhE5j5r6Z8kSaPGLBlERmX', last_id='msg_xhzJ7Atu38lngaUM0gaQDqr6', has_more=False)\n"
          ]
        }
      ]
    },
    {
      "cell_type": "code",
      "source": [
        "display(HTML(responses.data[0].content[0].text.value))"
      ],
      "metadata": {
        "colab": {
          "base_uri": "https://localhost:8080/",
          "height": 86
        },
        "id": "K8qrlV5Lb5nl",
        "outputId": "6dc6d051-85f6-4fb5-d5ff-542348d9e3d7"
      },
      "execution_count": 17,
      "outputs": [
        {
          "output_type": "display_data",
          "data": {
            "text/plain": [
              "<IPython.core.display.HTML object>"
            ],
            "text/html": [
              "Absolutely, Jane Doe! I can assist you in solving the equation `7x^2 - 3 = 0`. This is a quadratic equation, which can be solved using various methods, such as factoring, completing the square, or using the quadratic formula.\n",
              "\n",
              "In this case, we will use the quadratic formula to find the value(s) of `x`. The quadratic formula states that for an equation in the form `ax^2 + bx + c = 0`, the solutions for `x` are given by:\n",
              "\n",
              "`x = (-b ± √(b^2 - 4ac)) / (2a)`\n",
              "\n",
              "Now let's apply the quadratic formula to our equation `7x^2 - 3 = 0`:\n",
              "\n",
              "In this case:\n",
              "a = 7\n",
              "b = 0 (no x-term)\n",
              "c = -3\n",
              "\n",
              "Plugging these values into the quadratic formula, we get:\n",
              "\n",
              "`x = (-0 ± √(0^2 - 4 * 7 * -3)) / (2 * 7)`\n",
              "\n",
              "Simplifying further:\n",
              "\n",
              "`x = ±√(0 + 84) / 14`\n",
              "\n",
              "`x = ±√(84) / 14`\n",
              "\n",
              "`x = ±√(4 * 21) / 14`\n",
              "\n",
              "`x = ±(2√21) / 14`\n",
              "\n",
              "Simplifying the expression:\n",
              "\n",
              "`x = ±√21 / 7`\n",
              "\n",
              "Therefore, the solutions to the equation `7x^2 - 3 = 0` are `x = √21 / 7` and `x = -√21 / 7`."
            ]
          },
          "metadata": {}
        }
      ]
    }
  ]
}